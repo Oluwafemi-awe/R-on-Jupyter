{
 "cells": [
  {
   "cell_type": "code",
   "execution_count": 1,
   "id": "12b9b472-1dc1-4654-bd32-4041ff689013",
   "metadata": {},
   "outputs": [
    {
     "data": {
      "text/html": [
       "6"
      ],
      "text/latex": [
       "6"
      ],
      "text/markdown": [
       "6"
      ],
      "text/plain": [
       "[1] 6"
      ]
     },
     "metadata": {},
     "output_type": "display_data"
    }
   ],
   "source": [
    "2*3"
   ]
  },
  {
   "cell_type": "code",
   "execution_count": 2,
   "id": "d0dc708a-2f0f-4489-b49f-8a1221c1a34c",
   "metadata": {},
   "outputs": [
    {
     "data": {
      "text/html": [
       "3"
      ],
      "text/latex": [
       "3"
      ],
      "text/markdown": [
       "3"
      ],
      "text/plain": [
       "[1] 3"
      ]
     },
     "metadata": {},
     "output_type": "display_data"
    }
   ],
   "source": [
    "4-1"
   ]
  },
  {
   "cell_type": "code",
   "execution_count": 5,
   "id": "2165d506-2c1f-46ca-869e-3f0ea7545d36",
   "metadata": {},
   "outputs": [],
   "source": [
    "x=seq(1,10)"
   ]
  },
  {
   "cell_type": "code",
   "execution_count": 6,
   "id": "c6603d2b-ed41-46ae-a3c1-1563f590e817",
   "metadata": {},
   "outputs": [
    {
     "name": "stdout",
     "output_type": "stream",
     "text": [
      " [1]  1  2  3  4  5  6  7  8  9 10\n"
     ]
    }
   ],
   "source": [
    "print(x)"
   ]
  },
  {
   "cell_type": "code",
   "execution_count": 7,
   "id": "92b2bff5-8bfc-400f-8340-6b9e7f8d6887",
   "metadata": {},
   "outputs": [
    {
     "data": {
      "text/html": [
       "<ol class=list-inline>\n",
       "\t<li>1</li>\n",
       "\t<li>2</li>\n",
       "\t<li>3</li>\n",
       "\t<li>4</li>\n",
       "\t<li>5</li>\n",
       "\t<li>6</li>\n",
       "\t<li>7</li>\n",
       "\t<li>8</li>\n",
       "\t<li>9</li>\n",
       "\t<li>10</li>\n",
       "\t<li>1</li>\n",
       "\t<li>2</li>\n",
       "\t<li>3</li>\n",
       "\t<li>4</li>\n",
       "\t<li>5</li>\n",
       "\t<li>6</li>\n",
       "\t<li>7</li>\n",
       "\t<li>8</li>\n",
       "\t<li>9</li>\n",
       "\t<li>10</li>\n",
       "\t<li>1</li>\n",
       "\t<li>2</li>\n",
       "\t<li>3</li>\n",
       "\t<li>4</li>\n",
       "\t<li>5</li>\n",
       "\t<li>6</li>\n",
       "\t<li>7</li>\n",
       "\t<li>8</li>\n",
       "\t<li>9</li>\n",
       "\t<li>10</li>\n",
       "\t<li>1</li>\n",
       "\t<li>2</li>\n",
       "\t<li>3</li>\n",
       "\t<li>4</li>\n",
       "\t<li>5</li>\n",
       "\t<li>6</li>\n",
       "\t<li>7</li>\n",
       "\t<li>8</li>\n",
       "\t<li>9</li>\n",
       "\t<li>10</li>\n",
       "\t<li>1</li>\n",
       "\t<li>2</li>\n",
       "\t<li>3</li>\n",
       "\t<li>4</li>\n",
       "\t<li>5</li>\n",
       "\t<li>6</li>\n",
       "\t<li>7</li>\n",
       "\t<li>8</li>\n",
       "\t<li>9</li>\n",
       "\t<li>10</li>\n",
       "</ol>\n"
      ],
      "text/latex": [
       "\\begin{enumerate*}\n",
       "\\item 1\n",
       "\\item 2\n",
       "\\item 3\n",
       "\\item 4\n",
       "\\item 5\n",
       "\\item 6\n",
       "\\item 7\n",
       "\\item 8\n",
       "\\item 9\n",
       "\\item 10\n",
       "\\item 1\n",
       "\\item 2\n",
       "\\item 3\n",
       "\\item 4\n",
       "\\item 5\n",
       "\\item 6\n",
       "\\item 7\n",
       "\\item 8\n",
       "\\item 9\n",
       "\\item 10\n",
       "\\item 1\n",
       "\\item 2\n",
       "\\item 3\n",
       "\\item 4\n",
       "\\item 5\n",
       "\\item 6\n",
       "\\item 7\n",
       "\\item 8\n",
       "\\item 9\n",
       "\\item 10\n",
       "\\item 1\n",
       "\\item 2\n",
       "\\item 3\n",
       "\\item 4\n",
       "\\item 5\n",
       "\\item 6\n",
       "\\item 7\n",
       "\\item 8\n",
       "\\item 9\n",
       "\\item 10\n",
       "\\item 1\n",
       "\\item 2\n",
       "\\item 3\n",
       "\\item 4\n",
       "\\item 5\n",
       "\\item 6\n",
       "\\item 7\n",
       "\\item 8\n",
       "\\item 9\n",
       "\\item 10\n",
       "\\end{enumerate*}\n"
      ],
      "text/markdown": [
       "1. 1\n",
       "2. 2\n",
       "3. 3\n",
       "4. 4\n",
       "5. 5\n",
       "6. 6\n",
       "7. 7\n",
       "8. 8\n",
       "9. 9\n",
       "10. 10\n",
       "11. 1\n",
       "12. 2\n",
       "13. 3\n",
       "14. 4\n",
       "15. 5\n",
       "16. 6\n",
       "17. 7\n",
       "18. 8\n",
       "19. 9\n",
       "20. 10\n",
       "21. 1\n",
       "22. 2\n",
       "23. 3\n",
       "24. 4\n",
       "25. 5\n",
       "26. 6\n",
       "27. 7\n",
       "28. 8\n",
       "29. 9\n",
       "30. 10\n",
       "31. 1\n",
       "32. 2\n",
       "33. 3\n",
       "34. 4\n",
       "35. 5\n",
       "36. 6\n",
       "37. 7\n",
       "38. 8\n",
       "39. 9\n",
       "40. 10\n",
       "41. 1\n",
       "42. 2\n",
       "43. 3\n",
       "44. 4\n",
       "45. 5\n",
       "46. 6\n",
       "47. 7\n",
       "48. 8\n",
       "49. 9\n",
       "50. 10\n",
       "\n",
       "\n"
      ],
      "text/plain": [
       " [1]  1  2  3  4  5  6  7  8  9 10  1  2  3  4  5  6  7  8  9 10  1  2  3  4  5\n",
       "[26]  6  7  8  9 10  1  2  3  4  5  6  7  8  9 10  1  2  3  4  5  6  7  8  9 10"
      ]
     },
     "metadata": {},
     "output_type": "display_data"
    }
   ],
   "source": [
    "rep(x,5)"
   ]
  },
  {
   "cell_type": "code",
   "execution_count": 8,
   "id": "26fc9049-dbd9-4055-982c-11c67bff184f",
   "metadata": {},
   "outputs": [
    {
     "data": {
      "text/html": [
       "<ol class=list-inline>\n",
       "\t<li>1</li>\n",
       "\t<li>1</li>\n",
       "\t<li>2</li>\n",
       "\t<li>2</li>\n",
       "\t<li>3</li>\n",
       "\t<li>3</li>\n",
       "\t<li>4</li>\n",
       "\t<li>4</li>\n",
       "\t<li>5</li>\n",
       "\t<li>5</li>\n",
       "\t<li>6</li>\n",
       "\t<li>6</li>\n",
       "\t<li>7</li>\n",
       "\t<li>7</li>\n",
       "\t<li>8</li>\n",
       "\t<li>8</li>\n",
       "\t<li>9</li>\n",
       "\t<li>9</li>\n",
       "\t<li>10</li>\n",
       "\t<li>10</li>\n",
       "\t<li>1</li>\n",
       "\t<li>1</li>\n",
       "\t<li>2</li>\n",
       "\t<li>2</li>\n",
       "\t<li>3</li>\n",
       "\t<li>3</li>\n",
       "\t<li>4</li>\n",
       "\t<li>4</li>\n",
       "\t<li>5</li>\n",
       "\t<li>5</li>\n",
       "\t<li>6</li>\n",
       "\t<li>6</li>\n",
       "\t<li>7</li>\n",
       "\t<li>7</li>\n",
       "\t<li>8</li>\n",
       "\t<li>8</li>\n",
       "\t<li>9</li>\n",
       "\t<li>9</li>\n",
       "\t<li>10</li>\n",
       "\t<li>10</li>\n",
       "\t<li>1</li>\n",
       "\t<li>1</li>\n",
       "\t<li>2</li>\n",
       "\t<li>2</li>\n",
       "\t<li>3</li>\n",
       "\t<li>3</li>\n",
       "\t<li>4</li>\n",
       "\t<li>4</li>\n",
       "\t<li>5</li>\n",
       "\t<li>5</li>\n",
       "\t<li>6</li>\n",
       "\t<li>6</li>\n",
       "\t<li>7</li>\n",
       "\t<li>7</li>\n",
       "\t<li>8</li>\n",
       "\t<li>8</li>\n",
       "\t<li>9</li>\n",
       "\t<li>9</li>\n",
       "\t<li>10</li>\n",
       "\t<li>10</li>\n",
       "</ol>\n"
      ],
      "text/latex": [
       "\\begin{enumerate*}\n",
       "\\item 1\n",
       "\\item 1\n",
       "\\item 2\n",
       "\\item 2\n",
       "\\item 3\n",
       "\\item 3\n",
       "\\item 4\n",
       "\\item 4\n",
       "\\item 5\n",
       "\\item 5\n",
       "\\item 6\n",
       "\\item 6\n",
       "\\item 7\n",
       "\\item 7\n",
       "\\item 8\n",
       "\\item 8\n",
       "\\item 9\n",
       "\\item 9\n",
       "\\item 10\n",
       "\\item 10\n",
       "\\item 1\n",
       "\\item 1\n",
       "\\item 2\n",
       "\\item 2\n",
       "\\item 3\n",
       "\\item 3\n",
       "\\item 4\n",
       "\\item 4\n",
       "\\item 5\n",
       "\\item 5\n",
       "\\item 6\n",
       "\\item 6\n",
       "\\item 7\n",
       "\\item 7\n",
       "\\item 8\n",
       "\\item 8\n",
       "\\item 9\n",
       "\\item 9\n",
       "\\item 10\n",
       "\\item 10\n",
       "\\item 1\n",
       "\\item 1\n",
       "\\item 2\n",
       "\\item 2\n",
       "\\item 3\n",
       "\\item 3\n",
       "\\item 4\n",
       "\\item 4\n",
       "\\item 5\n",
       "\\item 5\n",
       "\\item 6\n",
       "\\item 6\n",
       "\\item 7\n",
       "\\item 7\n",
       "\\item 8\n",
       "\\item 8\n",
       "\\item 9\n",
       "\\item 9\n",
       "\\item 10\n",
       "\\item 10\n",
       "\\end{enumerate*}\n"
      ],
      "text/markdown": [
       "1. 1\n",
       "2. 1\n",
       "3. 2\n",
       "4. 2\n",
       "5. 3\n",
       "6. 3\n",
       "7. 4\n",
       "8. 4\n",
       "9. 5\n",
       "10. 5\n",
       "11. 6\n",
       "12. 6\n",
       "13. 7\n",
       "14. 7\n",
       "15. 8\n",
       "16. 8\n",
       "17. 9\n",
       "18. 9\n",
       "19. 10\n",
       "20. 10\n",
       "21. 1\n",
       "22. 1\n",
       "23. 2\n",
       "24. 2\n",
       "25. 3\n",
       "26. 3\n",
       "27. 4\n",
       "28. 4\n",
       "29. 5\n",
       "30. 5\n",
       "31. 6\n",
       "32. 6\n",
       "33. 7\n",
       "34. 7\n",
       "35. 8\n",
       "36. 8\n",
       "37. 9\n",
       "38. 9\n",
       "39. 10\n",
       "40. 10\n",
       "41. 1\n",
       "42. 1\n",
       "43. 2\n",
       "44. 2\n",
       "45. 3\n",
       "46. 3\n",
       "47. 4\n",
       "48. 4\n",
       "49. 5\n",
       "50. 5\n",
       "51. 6\n",
       "52. 6\n",
       "53. 7\n",
       "54. 7\n",
       "55. 8\n",
       "56. 8\n",
       "57. 9\n",
       "58. 9\n",
       "59. 10\n",
       "60. 10\n",
       "\n",
       "\n"
      ],
      "text/plain": [
       " [1]  1  1  2  2  3  3  4  4  5  5  6  6  7  7  8  8  9  9 10 10  1  1  2  2  3\n",
       "[26]  3  4  4  5  5  6  6  7  7  8  8  9  9 10 10  1  1  2  2  3  3  4  4  5  5\n",
       "[51]  6  6  7  7  8  8  9  9 10 10"
      ]
     },
     "metadata": {},
     "output_type": "display_data"
    }
   ],
   "source": [
    "rep(x, times=3, each=2)"
   ]
  },
  {
   "cell_type": "code",
   "execution_count": 9,
   "id": "65748f6c-115f-4150-bb0a-31b7a1eebb1e",
   "metadata": {},
   "outputs": [
    {
     "data": {
      "text/html": [
       "\n",
       "<table width=\"100%\" summary=\"page for seq {base}\"><tr><td>seq {base}</td><td style=\"text-align: right;\">R Documentation</td></tr></table>\n",
       "\n",
       "<h2>Sequence Generation</h2>\n",
       "\n",
       "<h3>Description</h3>\n",
       "\n",
       "<p>Generate regular sequences.  <code>seq</code> is a standard generic with a\n",
       "default method.  <code>seq.int</code> is a primitive which can be\n",
       "much faster but has a few restrictions.  <code>seq_along</code> and\n",
       "<code>seq_len</code> are very fast primitives for two common cases.\n",
       "</p>\n",
       "\n",
       "\n",
       "<h3>Usage</h3>\n",
       "\n",
       "<pre>\n",
       "seq(...)\n",
       "\n",
       "## Default S3 method:\n",
       "seq(from = 1, to = 1, by = ((to - from)/(length.out - 1)),\n",
       "    length.out = NULL, along.with = NULL, ...)\n",
       "\n",
       "seq.int(from, to, by, length.out, along.with, ...)\n",
       "\n",
       "seq_along(along.with)\n",
       "seq_len(length.out)\n",
       "</pre>\n",
       "\n",
       "\n",
       "<h3>Arguments</h3>\n",
       "\n",
       "<table summary=\"R argblock\">\n",
       "<tr valign=\"top\"><td><code>...</code></td>\n",
       "<td>\n",
       "<p>arguments passed to or from methods.</p>\n",
       "</td></tr>\n",
       "<tr valign=\"top\"><td><code>from, to</code></td>\n",
       "<td>\n",
       "<p>the starting and (maximal) end values of the\n",
       "sequence.  Of length <code>1</code> unless just <code>from</code> is supplied as\n",
       "an unnamed argument.</p>\n",
       "</td></tr>\n",
       "<tr valign=\"top\"><td><code>by</code></td>\n",
       "<td>\n",
       "<p>number: increment of the sequence.</p>\n",
       "</td></tr>\n",
       "<tr valign=\"top\"><td><code>length.out</code></td>\n",
       "<td>\n",
       "<p>desired length of the sequence.  A\n",
       "non-negative number, which for <code>seq</code> and <code>seq.int</code> will be\n",
       "rounded up if fractional.</p>\n",
       "</td></tr>\n",
       "<tr valign=\"top\"><td><code>along.with</code></td>\n",
       "<td>\n",
       "<p>take the length from the length of this argument.</p>\n",
       "</td></tr>\n",
       "</table>\n",
       "\n",
       "\n",
       "<h3>Details</h3>\n",
       "\n",
       "<p>Numerical inputs should all be finite (that is, not infinite,\n",
       "<code>NaN</code> or <code>NA</code>).\n",
       "</p>\n",
       "<p>The interpretation of the unnamed arguments of <code>seq</code> and\n",
       "<code>seq.int</code> is <em>not</em> standard, and it is recommended always to\n",
       "name the arguments when programming.\n",
       "</p>\n",
       "<p><code>seq</code> is  generic, and only the default method is described here.\n",
       "Note that it dispatches on the class of the <strong>first</strong> argument\n",
       "irrespective of argument names.  This can have unintended consequences\n",
       "if it is called with just one argument intending this to be taken as\n",
       "<code>along.with</code>: it is much better to use <code>seq_along</code> in that\n",
       "case.\n",
       "</p>\n",
       "<p><code>seq.int</code> is an internal generic which dispatches on\n",
       "methods for <code>\"seq\"</code> based on the class of the first supplied\n",
       "argument (before argument matching).\n",
       "</p>\n",
       "<p>Typical usages are\n",
       "</p>\n",
       "<pre>seq(from, to)\n",
       "seq(from, to, by= )\n",
       "seq(from, to, length.out= )\n",
       "seq(along.with= )\n",
       "seq(from)\n",
       "seq(length.out= )\n",
       "</pre>\n",
       "<p>The first form generates the sequence <code>from, from+/-1, ..., to</code>\n",
       "(identical to <code>from:to</code>).\n",
       "</p>\n",
       "<p>The second form generates <code>from, from+by</code>, ..., up to the\n",
       "sequence value less than or equal to <code>to</code>.  Specifying <code>to -\n",
       "  from</code> and <code>by</code> of opposite signs is an error.  Note that the\n",
       "computed final value can go just beyond <code>to</code> to allow for\n",
       "rounding error, but is truncated to <code>to</code>.  (&lsquo;Just beyond&rsquo;\n",
       "is by up to <i>1e-10</i> times <code>abs(from - to)</code>.)\n",
       "</p>\n",
       "<p>The third generates a sequence of <code>length.out</code> equally spaced\n",
       "values from <code>from</code> to <code>to</code>.  (<code>length.out</code> is usually\n",
       "abbreviated to <code>length</code> or <code>len</code>, and <code>seq_len</code> is much\n",
       "faster.)\n",
       "</p>\n",
       "<p>The fourth form generates the integer sequence <code>1, 2, ...,\n",
       "    length(along.with)</code>.  (<code>along.with</code> is usually abbreviated to\n",
       "<code>along</code>, and <code>seq_along</code> is much faster.)\n",
       "</p>\n",
       "<p>The fifth form generates the sequence <code>1, 2, ..., length(from)</code>\n",
       "(as if argument <code>along.with</code> had been specified), <em>unless</em>\n",
       "the argument is numeric of length 1 when it is interpreted as\n",
       "<code>1:from</code> (even for <code>seq(0)</code> for compatibility with S).\n",
       "Using either <code>seq_along</code> or <code>seq_len</code> is much preferred\n",
       "(unless strict S compatibility is essential).\n",
       "</p>\n",
       "<p>The final form generates the integer sequence <code>1, 2, ...,\n",
       "  length.out</code> unless <code>length.out = 0</code>, when it generates\n",
       "<code>integer(0)</code>.\n",
       "</p>\n",
       "<p>Very small sequences (with <code>from - to</code> of the order of <i>10^{-14}</i>\n",
       "times the larger of the ends) will return <code>from</code>.\n",
       "</p>\n",
       "<p>For <code>seq</code> (only), up to two of <code>from</code>, <code>to</code> and\n",
       "<code>by</code> can be supplied as complex values provided <code>length.out</code>\n",
       "or <code>along.with</code> is specified.  More generally, the default method\n",
       "of <code>seq</code> will handle classed objects with methods for\n",
       "the <code>Math</code>, <code>Ops</code> and <code>Summary</code> group generics.\n",
       "</p>\n",
       "<p><code>seq.int</code>, <code>seq_along</code> and <code>seq_len</code> are\n",
       "primitive.\n",
       "</p>\n",
       "\n",
       "\n",
       "<h3>Value</h3>\n",
       "\n",
       "<p><code>seq.int</code> and the default method of <code>seq</code> for numeric\n",
       "arguments return a vector of type <code>\"integer\"</code> or <code>\"double\"</code>:\n",
       "programmers should not rely on which.\n",
       "</p>\n",
       "<p><code>seq_along</code> and <code>seq_len</code> return an integer vector, unless\n",
       "it is a <em>long vector</em> when it will be double.\n",
       "</p>\n",
       "\n",
       "\n",
       "<h3>References</h3>\n",
       "\n",
       "<p>Becker, R. A., Chambers, J. M. and Wilks, A. R. (1988)\n",
       "<em>The New S Language</em>.\n",
       "Wadsworth &amp; Brooks/Cole.\n",
       "</p>\n",
       "\n",
       "\n",
       "<h3>See Also</h3>\n",
       "\n",
       "<p>The methods <code>seq.Date</code> and <code>seq.POSIXt</code>.\n",
       "</p>\n",
       "<p><code>:</code>,\n",
       "<code>rep</code>,\n",
       "<code>sequence</code>,\n",
       "<code>row</code>,\n",
       "<code>col</code>.\n",
       "</p>\n",
       "\n",
       "\n",
       "<h3>Examples</h3>\n",
       "\n",
       "<pre>\n",
       "seq(0, 1, length.out = 11)\n",
       "seq(stats::rnorm(20)) # effectively 'along'\n",
       "seq(1, 9, by = 2)     # matches 'end'\n",
       "seq(1, 9, by = pi)    # stays below 'end'\n",
       "seq(1, 6, by = 3)\n",
       "seq(1.575, 5.125, by = 0.05)\n",
       "seq(17) # same as 1:17, or even better seq_len(17)\n",
       "</pre>\n",
       "\n",
       "<hr /><div style=\"text-align: center;\">[Package <em>base</em> version 3.6.1 ]</div>"
      ],
      "text/latex": [
       "\\inputencoding{utf8}\n",
       "\\HeaderA{seq}{Sequence Generation}{seq}\n",
       "\\methaliasA{seq.default}{seq}{seq.default}\n",
       "\\methaliasA{seq.int}{seq}{seq.int}\n",
       "\\aliasA{seq\\_along}{seq}{seq.Rul.along}\n",
       "\\aliasA{seq\\_len}{seq}{seq.Rul.len}\n",
       "\\keyword{manip}{seq}\n",
       "%\n",
       "\\begin{Description}\\relax\n",
       "Generate regular sequences.  \\code{seq} is a standard generic with a\n",
       "default method.  \\code{seq.int} is a primitive which can be\n",
       "much faster but has a few restrictions.  \\code{seq\\_along} and\n",
       "\\code{seq\\_len} are very fast primitives for two common cases.\n",
       "\\end{Description}\n",
       "%\n",
       "\\begin{Usage}\n",
       "\\begin{verbatim}\n",
       "seq(...)\n",
       "\n",
       "## Default S3 method:\n",
       "seq(from = 1, to = 1, by = ((to - from)/(length.out - 1)),\n",
       "    length.out = NULL, along.with = NULL, ...)\n",
       "\n",
       "seq.int(from, to, by, length.out, along.with, ...)\n",
       "\n",
       "seq_along(along.with)\n",
       "seq_len(length.out)\n",
       "\\end{verbatim}\n",
       "\\end{Usage}\n",
       "%\n",
       "\\begin{Arguments}\n",
       "\\begin{ldescription}\n",
       "\\item[\\code{...}] arguments passed to or from methods.\n",
       "\\item[\\code{from, to}] the starting and (maximal) end values of the\n",
       "sequence.  Of length \\code{1} unless just \\code{from} is supplied as\n",
       "an unnamed argument.\n",
       "\\item[\\code{by}] number: increment of the sequence.\n",
       "\\item[\\code{length.out}] desired length of the sequence.  A\n",
       "non-negative number, which for \\code{seq} and \\code{seq.int} will be\n",
       "rounded up if fractional.\n",
       "\\item[\\code{along.with}] take the length from the length of this argument.\n",
       "\\end{ldescription}\n",
       "\\end{Arguments}\n",
       "%\n",
       "\\begin{Details}\\relax\n",
       "Numerical inputs should all be \\LinkA{finite}{finite} (that is, not infinite,\n",
       "\\code{\\LinkA{NaN}{NaN}} or \\code{NA}).\n",
       "\n",
       "The interpretation of the unnamed arguments of \\code{seq} and\n",
       "\\code{seq.int} is \\emph{not} standard, and it is recommended always to\n",
       "name the arguments when programming.\n",
       "\n",
       "\\code{seq} is  generic, and only the default method is described here.\n",
       "Note that it dispatches on the class of the \\strong{first} argument\n",
       "irrespective of argument names.  This can have unintended consequences\n",
       "if it is called with just one argument intending this to be taken as\n",
       "\\code{along.with}: it is much better to use \\code{seq\\_along} in that\n",
       "case.\n",
       "\n",
       "\\code{seq.int} is an \\LinkA{internal generic}{internal generic} which dispatches on\n",
       "methods for \\code{\"seq\"} based on the class of the first supplied\n",
       "argument (before argument matching).\n",
       "\n",
       "Typical usages are\n",
       "\\begin{alltt}seq(from, to)\n",
       "seq(from, to, by= )\n",
       "seq(from, to, length.out= )\n",
       "seq(along.with= )\n",
       "seq(from)\n",
       "seq(length.out= )\n",
       "\\end{alltt}\n",
       "\n",
       "The first form generates the sequence \\code{from, from+/-1, ..., to}\n",
       "(identical to \\code{from:to}).\n",
       "\n",
       "The second form generates \\code{from, from+by}, \\ldots, up to the\n",
       "sequence value less than or equal to \\code{to}.  Specifying \\code{to -\n",
       "  from} and \\code{by} of opposite signs is an error.  Note that the\n",
       "computed final value can go just beyond \\code{to} to allow for\n",
       "rounding error, but is truncated to \\code{to}.  (`Just beyond'\n",
       "is by up to \\eqn{10^{-10}}{} times \\code{abs(from - to)}.)\n",
       "\n",
       "The third generates a sequence of \\code{length.out} equally spaced\n",
       "values from \\code{from} to \\code{to}.  (\\code{length.out} is usually\n",
       "abbreviated to \\code{length} or \\code{len}, and \\code{seq\\_len} is much\n",
       "faster.)\n",
       "\n",
       "The fourth form generates the integer sequence \\code{1, 2, ...,\n",
       "    length(along.with)}.  (\\code{along.with} is usually abbreviated to\n",
       "\\code{along}, and \\code{seq\\_along} is much faster.)\n",
       "\n",
       "The fifth form generates the sequence \\code{1, 2, ..., length(from)}\n",
       "(as if argument \\code{along.with} had been specified), \\emph{unless}\n",
       "the argument is numeric of length 1 when it is interpreted as\n",
       "\\code{1:from} (even for \\code{seq(0)} for compatibility with S).\n",
       "Using either \\code{seq\\_along} or \\code{seq\\_len} is much preferred\n",
       "(unless strict S compatibility is essential).\n",
       "\n",
       "The final form generates the integer sequence \\code{1, 2, ...,\n",
       "  length.out} unless \\code{length.out = 0}, when it generates\n",
       "\\code{integer(0)}.\n",
       "\n",
       "Very small sequences (with \\code{from - to} of the order of \\eqn{10^{-14}}{}\n",
       "times the larger of the ends) will return \\code{from}.\n",
       "\n",
       "For \\code{seq} (only), up to two of \\code{from}, \\code{to} and\n",
       "\\code{by} can be supplied as complex values provided \\code{length.out}\n",
       "or \\code{along.with} is specified.  More generally, the default method\n",
       "of \\code{seq} will handle classed objects with methods for\n",
       "the \\code{Math}, \\code{Ops} and \\code{Summary} group generics.\n",
       "\n",
       "\\code{seq.int}, \\code{seq\\_along} and \\code{seq\\_len} are\n",
       "\\LinkA{primitive}{primitive}.\n",
       "\\end{Details}\n",
       "%\n",
       "\\begin{Value}\n",
       "\\code{seq.int} and the default method of \\code{seq} for numeric\n",
       "arguments return a vector of type \\code{\"integer\"} or \\code{\"double\"}:\n",
       "programmers should not rely on which.\n",
       "\n",
       "\\code{seq\\_along} and \\code{seq\\_len} return an integer vector, unless\n",
       "it is a \\emph{long vector} when it will be double.\n",
       "\\end{Value}\n",
       "%\n",
       "\\begin{References}\\relax\n",
       "Becker, R. A., Chambers, J. M. and Wilks, A. R. (1988)\n",
       "\\emph{The New S Language}.\n",
       "Wadsworth \\& Brooks/Cole.\n",
       "\\end{References}\n",
       "%\n",
       "\\begin{SeeAlso}\\relax\n",
       "The methods \\code{\\LinkA{seq.Date}{seq.Date}} and \\code{\\LinkA{seq.POSIXt}{seq.POSIXt}}.\n",
       "\n",
       "\\code{\\LinkA{:}{:}},\n",
       "\\code{\\LinkA{rep}{rep}},\n",
       "\\code{\\LinkA{sequence}{sequence}},\n",
       "\\code{\\LinkA{row}{row}},\n",
       "\\code{\\LinkA{col}{col}}.\n",
       "\\end{SeeAlso}\n",
       "%\n",
       "\\begin{Examples}\n",
       "\\begin{ExampleCode}\n",
       "seq(0, 1, length.out = 11)\n",
       "seq(stats::rnorm(20)) # effectively 'along'\n",
       "seq(1, 9, by = 2)     # matches 'end'\n",
       "seq(1, 9, by = pi)    # stays below 'end'\n",
       "seq(1, 6, by = 3)\n",
       "seq(1.575, 5.125, by = 0.05)\n",
       "seq(17) # same as 1:17, or even better seq_len(17)\n",
       "\\end{ExampleCode}\n",
       "\\end{Examples}"
      ],
      "text/plain": [
       "seq                    package:base                    R Documentation\n",
       "\n",
       "_\bS_\be_\bq_\bu_\be_\bn_\bc_\be _\bG_\be_\bn_\be_\br_\ba_\bt_\bi_\bo_\bn\n",
       "\n",
       "_\bD_\be_\bs_\bc_\br_\bi_\bp_\bt_\bi_\bo_\bn:\n",
       "\n",
       "     Generate regular sequences.  'seq' is a standard generic with a\n",
       "     default method.  'seq.int' is a primitive which can be much faster\n",
       "     but has a few restrictions.  'seq_along' and 'seq_len' are very\n",
       "     fast primitives for two common cases.\n",
       "\n",
       "_\bU_\bs_\ba_\bg_\be:\n",
       "\n",
       "     seq(...)\n",
       "     \n",
       "     ## Default S3 method:\n",
       "     seq(from = 1, to = 1, by = ((to - from)/(length.out - 1)),\n",
       "         length.out = NULL, along.with = NULL, ...)\n",
       "     \n",
       "     seq.int(from, to, by, length.out, along.with, ...)\n",
       "     \n",
       "     seq_along(along.with)\n",
       "     seq_len(length.out)\n",
       "     \n",
       "_\bA_\br_\bg_\bu_\bm_\be_\bn_\bt_\bs:\n",
       "\n",
       "     ...: arguments passed to or from methods.\n",
       "\n",
       "from, to: the starting and (maximal) end values of the sequence.  Of\n",
       "          length '1' unless just 'from' is supplied as an unnamed\n",
       "          argument.\n",
       "\n",
       "      by: number: increment of the sequence.\n",
       "\n",
       "length.out: desired length of the sequence.  A non-negative number,\n",
       "          which for 'seq' and 'seq.int' will be rounded up if\n",
       "          fractional.\n",
       "\n",
       "along.with: take the length from the length of this argument.\n",
       "\n",
       "_\bD_\be_\bt_\ba_\bi_\bl_\bs:\n",
       "\n",
       "     Numerical inputs should all be finite (that is, not infinite,\n",
       "     'NaN' or 'NA').\n",
       "\n",
       "     The interpretation of the unnamed arguments of 'seq' and 'seq.int'\n",
       "     is _not_ standard, and it is recommended always to name the\n",
       "     arguments when programming.\n",
       "\n",
       "     'seq' is generic, and only the default method is described here.\n",
       "     Note that it dispatches on the class of the *first* argument\n",
       "     irrespective of argument names.  This can have unintended\n",
       "     consequences if it is called with just one argument intending this\n",
       "     to be taken as 'along.with': it is much better to use 'seq_along'\n",
       "     in that case.\n",
       "\n",
       "     'seq.int' is an internal generic which dispatches on methods for\n",
       "     '\"seq\"' based on the class of the first supplied argument (before\n",
       "     argument matching).\n",
       "\n",
       "     Typical usages are\n",
       "     \n",
       "     seq(from, to)\n",
       "     seq(from, to, by= )\n",
       "     seq(from, to, length.out= )\n",
       "     seq(along.with= )\n",
       "     seq(from)\n",
       "     seq(length.out= )\n",
       "\n",
       "     The first form generates the sequence 'from, from+/-1, ..., to'\n",
       "     (identical to 'from:to').\n",
       "\n",
       "     The second form generates 'from, from+by', ..., up to the sequence\n",
       "     value less than or equal to 'to'.  Specifying 'to - from' and 'by'\n",
       "     of opposite signs is an error.  Note that the computed final value\n",
       "     can go just beyond 'to' to allow for rounding error, but is\n",
       "     truncated to 'to'.  ('Just beyond' is by up to 1e-10 times\n",
       "     'abs(from - to)'.)\n",
       "\n",
       "     The third generates a sequence of 'length.out' equally spaced\n",
       "     values from 'from' to 'to'.  ('length.out' is usually abbreviated\n",
       "     to 'length' or 'len', and 'seq_len' is much faster.)\n",
       "\n",
       "     The fourth form generates the integer sequence '1, 2, ...,\n",
       "     length(along.with)'.  ('along.with' is usually abbreviated to\n",
       "     'along', and 'seq_along' is much faster.)\n",
       "\n",
       "     The fifth form generates the sequence '1, 2, ..., length(from)'\n",
       "     (as if argument 'along.with' had been specified), _unless_ the\n",
       "     argument is numeric of length 1 when it is interpreted as '1:from'\n",
       "     (even for 'seq(0)' for compatibility with S).  Using either\n",
       "     'seq_along' or 'seq_len' is much preferred (unless strict S\n",
       "     compatibility is essential).\n",
       "\n",
       "     The final form generates the integer sequence '1, 2, ...,\n",
       "     length.out' unless 'length.out = 0', when it generates\n",
       "     'integer(0)'.\n",
       "\n",
       "     Very small sequences (with 'from - to' of the order of 10^{-14}\n",
       "     times the larger of the ends) will return 'from'.\n",
       "\n",
       "     For 'seq' (only), up to two of 'from', 'to' and 'by' can be\n",
       "     supplied as complex values provided 'length.out' or 'along.with'\n",
       "     is specified.  More generally, the default method of 'seq' will\n",
       "     handle classed objects with methods for the 'Math', 'Ops' and\n",
       "     'Summary' group generics.\n",
       "\n",
       "     'seq.int', 'seq_along' and 'seq_len' are primitive.\n",
       "\n",
       "_\bV_\ba_\bl_\bu_\be:\n",
       "\n",
       "     'seq.int' and the default method of 'seq' for numeric arguments\n",
       "     return a vector of type '\"integer\"' or '\"double\"': programmers\n",
       "     should not rely on which.\n",
       "\n",
       "     'seq_along' and 'seq_len' return an integer vector, unless it is a\n",
       "     _long vector_ when it will be double.\n",
       "\n",
       "_\bR_\be_\bf_\be_\br_\be_\bn_\bc_\be_\bs:\n",
       "\n",
       "     Becker, R. A., Chambers, J. M. and Wilks, A. R. (1988) _The New S\n",
       "     Language_.  Wadsworth & Brooks/Cole.\n",
       "\n",
       "_\bS_\be_\be _\bA_\bl_\bs_\bo:\n",
       "\n",
       "     The methods 'seq.Date' and 'seq.POSIXt'.\n",
       "\n",
       "     ':', 'rep', 'sequence', 'row', 'col'.\n",
       "\n",
       "_\bE_\bx_\ba_\bm_\bp_\bl_\be_\bs:\n",
       "\n",
       "     seq(0, 1, length.out = 11)\n",
       "     seq(stats::rnorm(20)) # effectively 'along'\n",
       "     seq(1, 9, by = 2)     # matches 'end'\n",
       "     seq(1, 9, by = pi)    # stays below 'end'\n",
       "     seq(1, 6, by = 3)\n",
       "     seq(1.575, 5.125, by = 0.05)\n",
       "     seq(17) # same as 1:17, or even better seq_len(17)\n",
       "     "
      ]
     },
     "metadata": {},
     "output_type": "display_data"
    }
   ],
   "source": [
    "?seq"
   ]
  },
  {
   "cell_type": "code",
   "execution_count": 11,
   "id": "d152fe49-5871-4e43-98fc-068b95e789b0",
   "metadata": {},
   "outputs": [
    {
     "data": {
      "text/html": [
       "No documentation for 'dataframe' in specified packages and libraries:\n",
       "you could try '??dataframe'"
      ],
      "text/latex": [
       "No documentation for 'dataframe' in specified packages and libraries:\n",
       "you could try '??dataframe'"
      ],
      "text/plain": [
       "No documentation for 'dataframe' in specified packages and libraries:\n",
       "you could try '??dataframe'"
      ]
     },
     "metadata": {},
     "output_type": "display_data"
    }
   ],
   "source": [
    "?dataframe"
   ]
  },
  {
   "cell_type": "code",
   "execution_count": 12,
   "id": "624fcd08-c3a0-4c49-8fd8-c057563f910a",
   "metadata": {},
   "outputs": [],
   "source": [
    "a=c(\"tayo\", \"ojo\", \"Titi\", \"Femi\")"
   ]
  },
  {
   "cell_type": "code",
   "execution_count": 13,
   "id": "d30f1f82-ef98-4a0a-84b6-e5781ccabc41",
   "metadata": {},
   "outputs": [
    {
     "data": {
      "text/html": [
       "<ol class=list-inline>\n",
       "\t<li>'tayo'</li>\n",
       "\t<li>'ojo'</li>\n",
       "\t<li>'Titi'</li>\n",
       "\t<li>'Femi'</li>\n",
       "</ol>\n"
      ],
      "text/latex": [
       "\\begin{enumerate*}\n",
       "\\item 'tayo'\n",
       "\\item 'ojo'\n",
       "\\item 'Titi'\n",
       "\\item 'Femi'\n",
       "\\end{enumerate*}\n"
      ],
      "text/markdown": [
       "1. 'tayo'\n",
       "2. 'ojo'\n",
       "3. 'Titi'\n",
       "4. 'Femi'\n",
       "\n",
       "\n"
      ],
      "text/plain": [
       "[1] \"tayo\" \"ojo\"  \"Titi\" \"Femi\""
      ]
     },
     "metadata": {},
     "output_type": "display_data"
    }
   ],
   "source": [
    "a"
   ]
  },
  {
   "cell_type": "code",
   "execution_count": 14,
   "id": "61fad4fa-a143-4c3d-83fe-730a0e32d28c",
   "metadata": {},
   "outputs": [
    {
     "data": {
      "text/html": [
       "<ol class=list-inline>\n",
       "\t<li>1</li>\n",
       "\t<li>4</li>\n",
       "\t<li>7</li>\n",
       "\t<li>10</li>\n",
       "</ol>\n"
      ],
      "text/latex": [
       "\\begin{enumerate*}\n",
       "\\item 1\n",
       "\\item 4\n",
       "\\item 7\n",
       "\\item 10\n",
       "\\end{enumerate*}\n"
      ],
      "text/markdown": [
       "1. 1\n",
       "2. 4\n",
       "3. 7\n",
       "4. 10\n",
       "\n",
       "\n"
      ],
      "text/plain": [
       "[1]  1  4  7 10"
      ]
     },
     "metadata": {},
     "output_type": "display_data"
    }
   ],
   "source": [
    "seq(1,10,along.with=a)"
   ]
  },
  {
   "cell_type": "code",
   "execution_count": 15,
   "id": "8908c336-6fe5-4078-8419-90d16ace4832",
   "metadata": {},
   "outputs": [
    {
     "data": {
      "text/html": [
       "<dl>\n",
       "\t<dt>$vegetables</dt>\n",
       "\t\t<dd>'carrot'</dd>\n",
       "\t<dt>[[2]]</dt>\n",
       "\t\t<dd>'cucumber'</dd>\n",
       "\t<dt>[[3]]</dt>\n",
       "\t\t<dd>'spinach'</dd>\n",
       "\t<dt>[[4]]</dt>\n",
       "\t\t<dd>'courgette'</dd>\n",
       "\t<dt>$gadgets</dt>\n",
       "\t\t<dd>'computer'</dd>\n",
       "\t<dt>[[6]]</dt>\n",
       "\t\t<dd>'TV'</dd>\n",
       "\t<dt>[[7]]</dt>\n",
       "\t\t<dd>'CCTV'</dd>\n",
       "\t<dt>[[8]]</dt>\n",
       "\t\t<dd>'phones'</dd>\n",
       "</dl>\n"
      ],
      "text/latex": [
       "\\begin{description}\n",
       "\\item[\\$vegetables] 'carrot'\n",
       "\\item[{[[2]]}] 'cucumber'\n",
       "\\item[{[[3]]}] 'spinach'\n",
       "\\item[{[[4]]}] 'courgette'\n",
       "\\item[\\$gadgets] 'computer'\n",
       "\\item[{[[6]]}] 'TV'\n",
       "\\item[{[[7]]}] 'CCTV'\n",
       "\\item[{[[8]]}] 'phones'\n",
       "\\end{description}\n"
      ],
      "text/markdown": [
       "$vegetables\n",
       ":   'carrot'\n",
       "[[2]]\n",
       ":   'cucumber'\n",
       "[[3]]\n",
       ":   'spinach'\n",
       "[[4]]\n",
       ":   'courgette'\n",
       "$gadgets\n",
       ":   'computer'\n",
       "[[6]]\n",
       ":   'TV'\n",
       "[[7]]\n",
       ":   'CCTV'\n",
       "[[8]]\n",
       ":   'phones'\n",
       "\n",
       "\n"
      ],
      "text/plain": [
       "$vegetables\n",
       "[1] \"carrot\"\n",
       "\n",
       "[[2]]\n",
       "[1] \"cucumber\"\n",
       "\n",
       "[[3]]\n",
       "[1] \"spinach\"\n",
       "\n",
       "[[4]]\n",
       "[1] \"courgette\"\n",
       "\n",
       "$gadgets\n",
       "[1] \"computer\"\n",
       "\n",
       "[[6]]\n",
       "[1] \"TV\"\n",
       "\n",
       "[[7]]\n",
       "[1] \"CCTV\"\n",
       "\n",
       "[[8]]\n",
       "[1] \"phones\"\n"
      ]
     },
     "metadata": {},
     "output_type": "display_data"
    }
   ],
   "source": [
    "list(vegetables=\"carrot\", \"cucumber\", \"spinach\", \"courgette\", gadgets=\"computer\", \"TV\", \"CCTV\", \"phones\")"
   ]
  },
  {
   "cell_type": "code",
   "execution_count": 16,
   "id": "d89775ae-bc30-4e06-b0b0-f571a86be7bd",
   "metadata": {},
   "outputs": [
    {
     "data": {
      "text/html": [
       "<ol class=list-inline>\n",
       "\t<li>10</li>\n",
       "\t<li>12</li>\n",
       "\t<li>14</li>\n",
       "\t<li>16</li>\n",
       "\t<li>18</li>\n",
       "\t<li>20</li>\n",
       "\t<li>22</li>\n",
       "\t<li>24</li>\n",
       "\t<li>26</li>\n",
       "\t<li>28</li>\n",
       "\t<li>30</li>\n",
       "\t<li>32</li>\n",
       "\t<li>34</li>\n",
       "\t<li>36</li>\n",
       "\t<li>38</li>\n",
       "\t<li>40</li>\n",
       "\t<li>42</li>\n",
       "\t<li>44</li>\n",
       "\t<li>46</li>\n",
       "\t<li>48</li>\n",
       "\t<li>50</li>\n",
       "</ol>\n"
      ],
      "text/latex": [
       "\\begin{enumerate*}\n",
       "\\item 10\n",
       "\\item 12\n",
       "\\item 14\n",
       "\\item 16\n",
       "\\item 18\n",
       "\\item 20\n",
       "\\item 22\n",
       "\\item 24\n",
       "\\item 26\n",
       "\\item 28\n",
       "\\item 30\n",
       "\\item 32\n",
       "\\item 34\n",
       "\\item 36\n",
       "\\item 38\n",
       "\\item 40\n",
       "\\item 42\n",
       "\\item 44\n",
       "\\item 46\n",
       "\\item 48\n",
       "\\item 50\n",
       "\\end{enumerate*}\n"
      ],
      "text/markdown": [
       "1. 10\n",
       "2. 12\n",
       "3. 14\n",
       "4. 16\n",
       "5. 18\n",
       "6. 20\n",
       "7. 22\n",
       "8. 24\n",
       "9. 26\n",
       "10. 28\n",
       "11. 30\n",
       "12. 32\n",
       "13. 34\n",
       "14. 36\n",
       "15. 38\n",
       "16. 40\n",
       "17. 42\n",
       "18. 44\n",
       "19. 46\n",
       "20. 48\n",
       "21. 50\n",
       "\n",
       "\n"
      ],
      "text/plain": [
       " [1] 10 12 14 16 18 20 22 24 26 28 30 32 34 36 38 40 42 44 46 48 50"
      ]
     },
     "metadata": {},
     "output_type": "display_data"
    }
   ],
   "source": [
    "seq(10, to=50, by=2)"
   ]
  },
  {
   "cell_type": "code",
   "execution_count": 17,
   "id": "63c0c585-90d6-42e0-9203-cd1240698059",
   "metadata": {},
   "outputs": [],
   "source": [
    "x=2354.765343545"
   ]
  },
  {
   "cell_type": "code",
   "execution_count": 18,
   "id": "18667f12-195c-4329-a860-189f8d102899",
   "metadata": {},
   "outputs": [
    {
     "data": {
      "text/html": [
       "2354.765"
      ],
      "text/latex": [
       "2354.765"
      ],
      "text/markdown": [
       "2354.765"
      ],
      "text/plain": [
       "[1] 2354.765"
      ]
     },
     "metadata": {},
     "output_type": "display_data"
    }
   ],
   "source": [
    "round(x,digits=3)"
   ]
  },
  {
   "cell_type": "code",
   "execution_count": 19,
   "id": "96bc7ff2-d064-407d-bf9e-81d479b8eb0d",
   "metadata": {},
   "outputs": [
    {
     "data": {
      "text/html": [
       "2400"
      ],
      "text/latex": [
       "2400"
      ],
      "text/markdown": [
       "2400"
      ],
      "text/plain": [
       "[1] 2400"
      ]
     },
     "metadata": {},
     "output_type": "display_data"
    }
   ],
   "source": [
    "signif(x, 2)"
   ]
  },
  {
   "cell_type": "code",
   "execution_count": 21,
   "id": "1a5f81d7-9e36-4bdf-801e-73bbb131edb3",
   "metadata": {},
   "outputs": [
    {
     "ename": "ERROR",
     "evalue": "Error in parse(text = x, srcfile = src): <text>:1:6: unexpected ','\n1: y=(30,\n         ^\n",
     "output_type": "error",
     "traceback": [
      "Error in parse(text = x, srcfile = src): <text>:1:6: unexpected ','\n1: y=(30,\n         ^\nTraceback:\n"
     ]
    }
   ],
   "source": [
    "y=(30,56,20,100,90)"
   ]
  },
  {
   "cell_type": "code",
   "execution_count": 23,
   "id": "d0ee8480-98a3-48c7-adff-125708042d0c",
   "metadata": {},
   "outputs": [],
   "source": [
    "y=c(30,56,20,100,90)"
   ]
  },
  {
   "cell_type": "code",
   "execution_count": 24,
   "id": "7da80e81-88d1-4b9e-912f-3750339870e7",
   "metadata": {},
   "outputs": [
    {
     "data": {
      "text/html": [
       "20"
      ],
      "text/latex": [
       "20"
      ],
      "text/markdown": [
       "20"
      ],
      "text/plain": [
       "[1] 20"
      ]
     },
     "metadata": {},
     "output_type": "display_data"
    }
   ],
   "source": [
    "min(y)"
   ]
  },
  {
   "cell_type": "code",
   "execution_count": 25,
   "id": "428c7dc3-3d7e-457f-987c-88d11a10a983",
   "metadata": {},
   "outputs": [
    {
     "data": {
      "text/html": [
       "100"
      ],
      "text/latex": [
       "100"
      ],
      "text/markdown": [
       "100"
      ],
      "text/plain": [
       "[1] 100"
      ]
     },
     "metadata": {},
     "output_type": "display_data"
    }
   ],
   "source": [
    "max(y)"
   ]
  },
  {
   "cell_type": "code",
   "execution_count": 26,
   "id": "e147f0a8-dbaf-4feb-aa9c-2bc95d4d00ab",
   "metadata": {},
   "outputs": [
    {
     "data": {
      "text/html": [
       "<ol class=list-inline>\n",
       "\t<li>30</li>\n",
       "\t<li>56</li>\n",
       "\t<li>20</li>\n",
       "\t<li>100</li>\n",
       "\t<li>90</li>\n",
       "\t<li>30</li>\n",
       "\t<li>56</li>\n",
       "\t<li>20</li>\n",
       "\t<li>100</li>\n",
       "\t<li>90</li>\n",
       "</ol>\n"
      ],
      "text/latex": [
       "\\begin{enumerate*}\n",
       "\\item 30\n",
       "\\item 56\n",
       "\\item 20\n",
       "\\item 100\n",
       "\\item 90\n",
       "\\item 30\n",
       "\\item 56\n",
       "\\item 20\n",
       "\\item 100\n",
       "\\item 90\n",
       "\\end{enumerate*}\n"
      ],
      "text/markdown": [
       "1. 30\n",
       "2. 56\n",
       "3. 20\n",
       "4. 100\n",
       "5. 90\n",
       "6. 30\n",
       "7. 56\n",
       "8. 20\n",
       "9. 100\n",
       "10. 90\n",
       "\n",
       "\n"
      ],
      "text/plain": [
       " [1]  30  56  20 100  90  30  56  20 100  90"
      ]
     },
     "metadata": {},
     "output_type": "display_data"
    }
   ],
   "source": [
    "rep(y,2)"
   ]
  },
  {
   "cell_type": "code",
   "execution_count": 28,
   "id": "2a49f74a-8af1-4d7a-938d-9b684d6775a7",
   "metadata": {},
   "outputs": [],
   "source": [
    "a=matrix(y,4,5)"
   ]
  },
  {
   "cell_type": "code",
   "execution_count": 29,
   "id": "ef39d145-8d35-4533-9915-4255023ce559",
   "metadata": {},
   "outputs": [
    {
     "data": {
      "text/html": [
       "<table>\n",
       "<tbody>\n",
       "\t<tr><td> 30</td><td>90 </td><td>100</td><td> 20</td><td> 56</td></tr>\n",
       "\t<tr><td> 56</td><td>30 </td><td> 90</td><td>100</td><td> 20</td></tr>\n",
       "\t<tr><td> 20</td><td>56 </td><td> 30</td><td> 90</td><td>100</td></tr>\n",
       "\t<tr><td>100</td><td>20 </td><td> 56</td><td> 30</td><td> 90</td></tr>\n",
       "</tbody>\n",
       "</table>\n"
      ],
      "text/latex": [
       "\\begin{tabular}{lllll}\n",
       "\t  30 & 90  & 100 &  20 &  56\\\\\n",
       "\t  56 & 30  &  90 & 100 &  20\\\\\n",
       "\t  20 & 56  &  30 &  90 & 100\\\\\n",
       "\t 100 & 20  &  56 &  30 &  90\\\\\n",
       "\\end{tabular}\n"
      ],
      "text/markdown": [
       "\n",
       "|  30 | 90  | 100 |  20 |  56 |\n",
       "|  56 | 30  |  90 | 100 |  20 |\n",
       "|  20 | 56  |  30 |  90 | 100 |\n",
       "| 100 | 20  |  56 |  30 |  90 |\n",
       "\n"
      ],
      "text/plain": [
       "     [,1] [,2] [,3] [,4] [,5]\n",
       "[1,]  30  90   100   20   56 \n",
       "[2,]  56  30    90  100   20 \n",
       "[3,]  20  56    30   90  100 \n",
       "[4,] 100  20    56   30   90 "
      ]
     },
     "metadata": {},
     "output_type": "display_data"
    }
   ],
   "source": [
    "a"
   ]
  },
  {
   "cell_type": "code",
   "execution_count": 32,
   "id": "b342469e-11bf-4b74-bd1b-01b3f0edd919",
   "metadata": {},
   "outputs": [],
   "source": [
    "x=a[1,5]"
   ]
  },
  {
   "cell_type": "code",
   "execution_count": 33,
   "id": "7ba5af7e-65e4-4e4d-a8c2-5be25797e17b",
   "metadata": {},
   "outputs": [
    {
     "data": {
      "text/html": [
       "56"
      ],
      "text/latex": [
       "56"
      ],
      "text/markdown": [
       "56"
      ],
      "text/plain": [
       "[1] 56"
      ]
     },
     "metadata": {},
     "output_type": "display_data"
    }
   ],
   "source": [
    "x"
   ]
  },
  {
   "cell_type": "code",
   "execution_count": 34,
   "id": "9d9933df-2090-4945-9248-cef257109239",
   "metadata": {},
   "outputs": [
    {
     "data": {
      "text/html": [
       "<ol class=list-inline>\n",
       "\t<li>56</li>\n",
       "\t<li>20</li>\n",
       "\t<li>100</li>\n",
       "\t<li>90</li>\n",
       "</ol>\n"
      ],
      "text/latex": [
       "\\begin{enumerate*}\n",
       "\\item 56\n",
       "\\item 20\n",
       "\\item 100\n",
       "\\item 90\n",
       "\\end{enumerate*}\n"
      ],
      "text/markdown": [
       "1. 56\n",
       "2. 20\n",
       "3. 100\n",
       "4. 90\n",
       "\n",
       "\n"
      ],
      "text/plain": [
       "[1]  56  20 100  90"
      ]
     },
     "metadata": {},
     "output_type": "display_data"
    }
   ],
   "source": [
    "a[ ,5]"
   ]
  },
  {
   "cell_type": "code",
   "execution_count": 35,
   "id": "b67fc250-b5e1-474c-be63-817b896c5325",
   "metadata": {},
   "outputs": [
    {
     "data": {
      "text/html": [
       "<table>\n",
       "<tbody>\n",
       "\t<tr><td>30 </td><td>90 </td><td>100</td><td> 20</td><td> 56</td></tr>\n",
       "\t<tr><td>56 </td><td>30 </td><td> 90</td><td>100</td><td> 20</td></tr>\n",
       "\t<tr><td>20 </td><td>56 </td><td> 30</td><td> 90</td><td>100</td></tr>\n",
       "</tbody>\n",
       "</table>\n"
      ],
      "text/latex": [
       "\\begin{tabular}{lllll}\n",
       "\t 30  & 90  & 100 &  20 &  56\\\\\n",
       "\t 56  & 30  &  90 & 100 &  20\\\\\n",
       "\t 20  & 56  &  30 &  90 & 100\\\\\n",
       "\\end{tabular}\n"
      ],
      "text/markdown": [
       "\n",
       "| 30  | 90  | 100 |  20 |  56 |\n",
       "| 56  | 30  |  90 | 100 |  20 |\n",
       "| 20  | 56  |  30 |  90 | 100 |\n",
       "\n"
      ],
      "text/plain": [
       "     [,1] [,2] [,3] [,4] [,5]\n",
       "[1,] 30   90   100   20   56 \n",
       "[2,] 56   30    90  100   20 \n",
       "[3,] 20   56    30   90  100 "
      ]
     },
     "metadata": {},
     "output_type": "display_data"
    }
   ],
   "source": [
    "a[1:3, ]"
   ]
  },
  {
   "cell_type": "code",
   "execution_count": 37,
   "id": "2c58e92d-e55f-4e2e-9401-344ffd9ea9be",
   "metadata": {},
   "outputs": [
    {
     "data": {
      "text/html": [
       "<table>\n",
       "<tbody>\n",
       "\t<tr><td>30 </td><td>90 </td><td>100</td><td>20 </td><td>56 </td></tr>\n",
       "</tbody>\n",
       "</table>\n"
      ],
      "text/latex": [
       "\\begin{tabular}{lllll}\n",
       "\t 30  & 90  & 100 & 20  & 56 \\\\\n",
       "\\end{tabular}\n"
      ],
      "text/markdown": [
       "\n",
       "| 30  | 90  | 100 | 20  | 56  |\n",
       "\n"
      ],
      "text/plain": [
       "     [,1] [,2] [,3] [,4] [,5]\n",
       "[1,] 30   90   100  20   56  "
      ]
     },
     "metadata": {},
     "output_type": "display_data"
    }
   ],
   "source": [
    "a[1, , drop=F]"
   ]
  },
  {
   "cell_type": "code",
   "execution_count": 38,
   "id": "dc0ff397-1e13-48e4-87c4-27e850e74401",
   "metadata": {},
   "outputs": [
    {
     "data": {
      "text/html": [
       "<ol class=list-inline>\n",
       "\t<li>30</li>\n",
       "\t<li>90</li>\n",
       "\t<li>100</li>\n",
       "\t<li>20</li>\n",
       "\t<li>56</li>\n",
       "</ol>\n"
      ],
      "text/latex": [
       "\\begin{enumerate*}\n",
       "\\item 30\n",
       "\\item 90\n",
       "\\item 100\n",
       "\\item 20\n",
       "\\item 56\n",
       "\\end{enumerate*}\n"
      ],
      "text/markdown": [
       "1. 30\n",
       "2. 90\n",
       "3. 100\n",
       "4. 20\n",
       "5. 56\n",
       "\n",
       "\n"
      ],
      "text/plain": [
       "[1]  30  90 100  20  56"
      ]
     },
     "metadata": {},
     "output_type": "display_data"
    }
   ],
   "source": [
    "a[1, ]"
   ]
  },
  {
   "cell_type": "code",
   "execution_count": 40,
   "id": "31ce7afc-02de-4ed3-ae52-5873442f90b8",
   "metadata": {},
   "outputs": [],
   "source": [
    "b=a[1:4, ]"
   ]
  },
  {
   "cell_type": "code",
   "execution_count": 43,
   "id": "51563545-aa49-4ac5-be97-77311ff9c8d8",
   "metadata": {},
   "outputs": [
    {
     "data": {
      "text/html": [
       "\n",
       "<table width=\"100%\" summary=\"page for matplot {graphics}\"><tr><td>matplot {graphics}</td><td style=\"text-align: right;\">R Documentation</td></tr></table>\n",
       "\n",
       "<h2>Plot Columns of Matrices</h2>\n",
       "\n",
       "<h3>Description</h3>\n",
       "\n",
       "<p>Plot the columns of one matrix against the columns of another.\n",
       "</p>\n",
       "\n",
       "\n",
       "<h3>Usage</h3>\n",
       "\n",
       "<pre>\n",
       "matplot(x, y, type = \"p\", lty = 1:5, lwd = 1, lend = par(\"lend\"),\n",
       "        pch = NULL,\n",
       "        col = 1:6, cex = NULL, bg = NA,\n",
       "        xlab = NULL, ylab = NULL, xlim = NULL, ylim = NULL,\n",
       "        log = \"\", ..., add = FALSE, verbose = getOption(\"verbose\"))\n",
       "\n",
       "matpoints(x, y, type = \"p\", lty = 1:5, lwd = 1, pch = NULL,\n",
       "          col = 1:6, ...)\n",
       "\n",
       "matlines (x, y, type = \"l\", lty = 1:5, lwd = 1, pch = NULL,\n",
       "          col = 1:6, ...)\n",
       "</pre>\n",
       "\n",
       "\n",
       "<h3>Arguments</h3>\n",
       "\n",
       "<table summary=\"R argblock\">\n",
       "<tr valign=\"top\"><td><code>x,y</code></td>\n",
       "<td>\n",
       "<p>vectors or matrices of data for plotting.  The number of\n",
       "rows should match.  If one of them are missing, the other is taken\n",
       "as <code>y</code> and an <code>x</code> vector of <code>1:n</code> is used.\n",
       "Missing values (<code>NA</code>s) are allowed.</p>\n",
       "</td></tr>\n",
       "<tr valign=\"top\"><td><code>type</code></td>\n",
       "<td>\n",
       "<p>character string (length 1 vector) or vector of 1-character\n",
       "strings indicating the type of plot for each\n",
       "column of <code>y</code>, see <code>plot</code> for all possible\n",
       "<code>type</code>s.  The first character of <code>type</code>\n",
       "defines the first plot, the second character the second, etc.\n",
       "Characters in <code>type</code> are cycled through; e.g., <code>\"pl\"</code>\n",
       "alternately plots points and lines.</p>\n",
       "</td></tr>\n",
       "<tr valign=\"top\"><td><code>lty,lwd,lend</code></td>\n",
       "<td>\n",
       "<p>vector of line types, widths, and end styles.\n",
       "The first element is for the first column, the second element for\n",
       "the second column, etc., even if lines are not plotted for all\n",
       "columns. Line types will be used cyclically until all plots are\n",
       "drawn.</p>\n",
       "</td></tr>\n",
       "<tr valign=\"top\"><td><code>pch</code></td>\n",
       "<td>\n",
       "<p>character string or vector of 1-characters or integers for\n",
       "plotting characters, see <code>points</code>.\n",
       "The first character is the plotting-character for the first plot,\n",
       "the second for the second, etc.  The default is the digits (1\n",
       "through 9, 0) then the lowercase and uppercase letters.\n",
       "\n",
       "\n",
       "\n",
       "\n",
       "\n",
       "</p>\n",
       "</td></tr>\n",
       "<tr valign=\"top\"><td><code>col</code></td>\n",
       "<td>\n",
       "<p>vector of colors.  Colors are used cyclically.</p>\n",
       "</td></tr>\n",
       "<tr valign=\"top\"><td><code>cex</code></td>\n",
       "<td>\n",
       "<p>vector of character expansion sizes, used cyclically.\n",
       "This works as a multiple of <code>par(\"cex\")</code>.  <code>NULL</code> is\n",
       "equivalent to <code>1.0</code>. </p>\n",
       "</td></tr>\n",
       "<tr valign=\"top\"><td><code>bg</code></td>\n",
       "<td>\n",
       "<p>vector of background (fill) colors for the open plot\n",
       "symbols given by <code>pch = 21:25</code> as in <code>points</code>.  The\n",
       "default <code>NA</code> corresponds to the one of the underlying function\n",
       "<code>plot.xy</code>.</p>\n",
       "</td></tr>\n",
       "<tr valign=\"top\"><td><code>xlab, ylab</code></td>\n",
       "<td>\n",
       "<p>titles for x and y axes, as in <code>plot</code>.</p>\n",
       "</td></tr>\n",
       "<tr valign=\"top\"><td><code>xlim, ylim</code></td>\n",
       "<td>\n",
       "<p>ranges of x and y axes, as in <code>plot</code>.</p>\n",
       "</td></tr>\n",
       "<tr valign=\"top\"><td><code>log, ...</code></td>\n",
       "<td>\n",
       "<p>Graphical parameters (see <code>par</code>) and any further\n",
       "arguments of <code>plot</code>, typically <code>plot.default</code>, may also be\n",
       "supplied as arguments to this function; even <code>panel.first</code> etc\n",
       "now work.  Hence, the high-level\n",
       "graphics control arguments described under <code>par</code> and the\n",
       "arguments to <code>title</code> may be supplied to this function.</p>\n",
       "</td></tr>\n",
       "<tr valign=\"top\"><td><code>add</code></td>\n",
       "<td>\n",
       "<p>logical.  If <code>TRUE</code>, plots are added to current one,\n",
       "using <code>points</code> and <code>lines</code>.</p>\n",
       "</td></tr>\n",
       "<tr valign=\"top\"><td><code>verbose</code></td>\n",
       "<td>\n",
       "<p>logical.  If <code>TRUE</code>, write one line of what is\n",
       "done.</p>\n",
       "</td></tr>\n",
       "</table>\n",
       "\n",
       "\n",
       "<h3>Details</h3>\n",
       "\n",
       "<p>Points involving missing values are not plotted.\n",
       "</p>\n",
       "<p>The first column of <code>x</code> is plotted against the first column of\n",
       "<code>y</code>, the second column of <code>x</code> against the second column of\n",
       "<code>y</code>, etc.  If one matrix has fewer columns, plotting will cycle\n",
       "back through the columns again.  (In particular, either <code>x</code> or\n",
       "<code>y</code> may be a vector, against which all columns of the other\n",
       "argument will be plotted.)\n",
       "</p>\n",
       "<p>The first element of <code>col, cex, lty, lwd</code> is used to plot the axes\n",
       "as well as the first line.\n",
       "</p>\n",
       "<p>Because plotting symbols are drawn with lines and because these\n",
       "functions may be changing the line style, you should probably specify\n",
       "<code>lty = 1</code> when using plotting symbols.\n",
       "</p>\n",
       "\n",
       "\n",
       "<h3>Side Effects</h3>\n",
       "\n",
       "<p>Function <code>matplot</code> generates a new plot;\n",
       "<code>matpoints</code> and <code>matlines</code> add to the current one.</p>\n",
       "\n",
       "\n",
       "<h3>References</h3>\n",
       "\n",
       "<p>Becker, R. A., Chambers, J. M. and Wilks, A. R. (1988)\n",
       "<em>The New S Language</em>.\n",
       "Wadsworth &amp; Brooks/Cole.\n",
       "</p>\n",
       "\n",
       "\n",
       "<h3>See Also</h3>\n",
       "\n",
       "<p><code>plot</code>, <code>points</code>, <code>lines</code>,\n",
       "<code>matrix</code>, <code>par</code>.\n",
       "</p>\n",
       "\n",
       "\n",
       "<h3>Examples</h3>\n",
       "\n",
       "<pre>\n",
       "require(grDevices)\n",
       "matplot((-4:5)^2, main = \"Quadratic\") # almost identical to plot(*)\n",
       "sines &lt;- outer(1:20, 1:4, function(x, y) sin(x / 20 * pi * y))\n",
       "matplot(sines, pch = 1:4, type = \"o\", col = rainbow(ncol(sines)))\n",
       "matplot(sines, type = \"b\", pch = 21:23, col = 2:5, bg = 2:5,\n",
       "        main = \"matplot(...., pch = 21:23, bg = 2:5)\")\n",
       "\n",
       "x &lt;- 0:50/50\n",
       "matplot(x, outer(x, 1:8, function(x, k) sin(k*pi * x)),\n",
       "        ylim = c(-2,2), type = \"plobcsSh\",\n",
       "        main= \"matplot(,type = \\\"plobcsSh\\\" )\")\n",
       "## pch &amp; type =  vector of 1-chars :\n",
       "matplot(x, outer(x, 1:4, function(x, k) sin(k*pi * x)),\n",
       "        pch = letters[1:4], type = c(\"b\",\"p\",\"o\"))\n",
       "\n",
       "lends &lt;- c(\"round\",\"butt\",\"square\")\n",
       "matplot(matrix(1:12, 4), type=\"c\", lty=1, lwd=10, lend=lends)\n",
       "text(cbind(2.5, 2*c(1,3,5)-.4), lends, col= 1:3, cex = 1.5)\n",
       "\n",
       "table(iris$Species) # is data.frame with 'Species' factor\n",
       "iS &lt;- iris$Species == \"setosa\"\n",
       "iV &lt;- iris$Species == \"versicolor\"\n",
       "op &lt;- par(bg = \"bisque\")\n",
       "matplot(c(1, 8), c(0, 4.5), type =  \"n\", xlab = \"Length\", ylab = \"Width\",\n",
       "        main = \"Petal and Sepal Dimensions in Iris Blossoms\")\n",
       "matpoints(iris[iS,c(1,3)], iris[iS,c(2,4)], pch = \"sS\", col = c(2,4))\n",
       "matpoints(iris[iV,c(1,3)], iris[iV,c(2,4)], pch = \"vV\", col = c(2,4))\n",
       "legend(1, 4, c(\"    Setosa Petals\", \"    Setosa Sepals\",\n",
       "               \"Versicolor Petals\", \"Versicolor Sepals\"),\n",
       "       pch = \"sSvV\", col = rep(c(2,4), 2))\n",
       "\n",
       "nam.var &lt;- colnames(iris)[-5]\n",
       "nam.spec &lt;- as.character(iris[1+50*0:2, \"Species\"])\n",
       "iris.S &lt;- array(NA, dim = c(50,4,3),\n",
       "                dimnames = list(NULL, nam.var, nam.spec))\n",
       "for(i in 1:3) iris.S[,,i] &lt;- data.matrix(iris[1:50+50*(i-1), -5])\n",
       "\n",
       "matplot(iris.S[, \"Petal.Length\",], iris.S[, \"Petal.Width\",], pch = \"SCV\",\n",
       "        col = rainbow(3, start = 0.8, end = 0.1),\n",
       "        sub = paste(c(\"S\", \"C\", \"V\"), dimnames(iris.S)[[3]],\n",
       "                    sep = \"=\", collapse= \",  \"),\n",
       "        main = \"Fisher's Iris Data\")\n",
       "par(op)\n",
       "</pre>\n",
       "\n",
       "<hr /><div style=\"text-align: center;\">[Package <em>graphics</em> version 3.6.1 ]</div>"
      ],
      "text/latex": [
       "\\inputencoding{utf8}\n",
       "\\HeaderA{matplot}{Plot Columns of Matrices}{matplot}\n",
       "\\aliasA{matlines}{matplot}{matlines}\n",
       "\\aliasA{matpoints}{matplot}{matpoints}\n",
       "\\keyword{hplot}{matplot}\n",
       "\\keyword{aplot}{matplot}\n",
       "\\keyword{array}{matplot}\n",
       "%\n",
       "\\begin{Description}\\relax\n",
       "Plot the columns of one matrix against the columns of another.\n",
       "\\end{Description}\n",
       "%\n",
       "\\begin{Usage}\n",
       "\\begin{verbatim}\n",
       "matplot(x, y, type = \"p\", lty = 1:5, lwd = 1, lend = par(\"lend\"),\n",
       "        pch = NULL,\n",
       "        col = 1:6, cex = NULL, bg = NA,\n",
       "        xlab = NULL, ylab = NULL, xlim = NULL, ylim = NULL,\n",
       "        log = \"\", ..., add = FALSE, verbose = getOption(\"verbose\"))\n",
       "\n",
       "matpoints(x, y, type = \"p\", lty = 1:5, lwd = 1, pch = NULL,\n",
       "          col = 1:6, ...)\n",
       "\n",
       "matlines (x, y, type = \"l\", lty = 1:5, lwd = 1, pch = NULL,\n",
       "          col = 1:6, ...)\n",
       "\\end{verbatim}\n",
       "\\end{Usage}\n",
       "%\n",
       "\\begin{Arguments}\n",
       "\\begin{ldescription}\n",
       "\\item[\\code{x,y}] vectors or matrices of data for plotting.  The number of\n",
       "rows should match.  If one of them are missing, the other is taken\n",
       "as \\code{y} and an \\code{x} vector of \\code{1:n} is used.\n",
       "Missing values (\\code{NA}s) are allowed.\n",
       "\\item[\\code{type}] character string (length 1 vector) or vector of 1-character\n",
       "strings indicating the type of plot for each\n",
       "column of \\code{y}, see \\code{\\LinkA{plot}{plot}} for all possible\n",
       "\\code{type}s.  The first character of \\code{type}\n",
       "defines the first plot, the second character the second, etc.\n",
       "Characters in \\code{type} are cycled through; e.g., \\code{\"pl\"}\n",
       "alternately plots points and lines.\n",
       "\\item[\\code{lty,lwd,lend}] vector of line types, widths, and end styles.\n",
       "The first element is for the first column, the second element for\n",
       "the second column, etc., even if lines are not plotted for all\n",
       "columns. Line types will be used cyclically until all plots are\n",
       "drawn.\n",
       "\\item[\\code{pch}] character string or vector of 1-characters or integers for\n",
       "plotting characters, see \\code{\\LinkA{points}{points}}.\n",
       "The first character is the plotting-character for the first plot,\n",
       "the second for the second, etc.  The default is the digits (1\n",
       "through 9, 0) then the lowercase and uppercase letters.\n",
       "\n",
       "\n",
       "\n",
       "\n",
       "\n",
       "\n",
       "\\item[\\code{col}] vector of colors.  Colors are used cyclically.\n",
       "\\item[\\code{cex}] vector of character expansion sizes, used cyclically.\n",
       "This works as a multiple of \\code{\\LinkA{par}{par}(\"cex\")}.  \\code{NULL} is\n",
       "equivalent to \\code{1.0}. \n",
       "\\item[\\code{bg}] vector of background (fill) colors for the open plot\n",
       "symbols given by \\code{pch = 21:25} as in \\code{\\LinkA{points}{points}}.  The\n",
       "default \\code{NA} corresponds to the one of the underlying function\n",
       "\\code{\\LinkA{plot.xy}{plot.xy}}.\n",
       "\\item[\\code{xlab, ylab}] titles for x and y axes, as in \\code{\\LinkA{plot}{plot}}.\n",
       "\\item[\\code{xlim, ylim}] ranges of x and y axes, as in \\code{\\LinkA{plot}{plot}}.\n",
       "\\item[\\code{log, ...}] Graphical parameters (see \\code{\\LinkA{par}{par}}) and any further\n",
       "arguments of \\code{plot}, typically \\code{\\LinkA{plot.default}{plot.default}}, may also be\n",
       "supplied as arguments to this function; even \\code{panel.first} etc\n",
       "now work.  Hence, the high-level\n",
       "graphics control arguments described under \\code{\\LinkA{par}{par}} and the\n",
       "arguments to \\code{\\LinkA{title}{title}} may be supplied to this function.\n",
       "\\item[\\code{add}] logical.  If \\code{TRUE}, plots are added to current one,\n",
       "using \\code{\\LinkA{points}{points}} and \\code{\\LinkA{lines}{lines}}.\n",
       "\\item[\\code{verbose}] logical.  If \\code{TRUE}, write one line of what is\n",
       "done.\n",
       "\\end{ldescription}\n",
       "\\end{Arguments}\n",
       "%\n",
       "\\begin{Details}\\relax\n",
       "Points involving missing values are not plotted.\n",
       "\n",
       "The first column of \\code{x} is plotted against the first column of\n",
       "\\code{y}, the second column of \\code{x} against the second column of\n",
       "\\code{y}, etc.  If one matrix has fewer columns, plotting will cycle\n",
       "back through the columns again.  (In particular, either \\code{x} or\n",
       "\\code{y} may be a vector, against which all columns of the other\n",
       "argument will be plotted.)\n",
       "\n",
       "The first element of \\code{col, cex, lty, lwd} is used to plot the axes\n",
       "as well as the first line.\n",
       "\n",
       "Because plotting symbols are drawn with lines and because these\n",
       "functions may be changing the line style, you should probably specify\n",
       "\\code{lty = 1} when using plotting symbols.\n",
       "\\end{Details}\n",
       "%\n",
       "\\begin{Section}{Side Effects}\n",
       "Function \\code{matplot} generates a new plot;\n",
       "\\code{matpoints} and \\code{matlines} add to the current one.\n",
       "\\end{Section}\n",
       "%\n",
       "\\begin{References}\\relax\n",
       "Becker, R. A., Chambers, J. M. and Wilks, A. R. (1988)\n",
       "\\emph{The New S Language}.\n",
       "Wadsworth \\& Brooks/Cole.\n",
       "\\end{References}\n",
       "%\n",
       "\\begin{SeeAlso}\\relax\n",
       "\\code{\\LinkA{plot}{plot}}, \\code{\\LinkA{points}{points}}, \\code{\\LinkA{lines}{lines}},\n",
       "\\code{\\LinkA{matrix}{matrix}}, \\code{\\LinkA{par}{par}}.\n",
       "\\end{SeeAlso}\n",
       "%\n",
       "\\begin{Examples}\n",
       "\\begin{ExampleCode}\n",
       "require(grDevices)\n",
       "matplot((-4:5)^2, main = \"Quadratic\") # almost identical to plot(*)\n",
       "sines <- outer(1:20, 1:4, function(x, y) sin(x / 20 * pi * y))\n",
       "matplot(sines, pch = 1:4, type = \"o\", col = rainbow(ncol(sines)))\n",
       "matplot(sines, type = \"b\", pch = 21:23, col = 2:5, bg = 2:5,\n",
       "        main = \"matplot(...., pch = 21:23, bg = 2:5)\")\n",
       "\n",
       "x <- 0:50/50\n",
       "matplot(x, outer(x, 1:8, function(x, k) sin(k*pi * x)),\n",
       "        ylim = c(-2,2), type = \"plobcsSh\",\n",
       "        main= \"matplot(,type = \\\"plobcsSh\\\" )\")\n",
       "## pch & type =  vector of 1-chars :\n",
       "matplot(x, outer(x, 1:4, function(x, k) sin(k*pi * x)),\n",
       "        pch = letters[1:4], type = c(\"b\",\"p\",\"o\"))\n",
       "\n",
       "lends <- c(\"round\",\"butt\",\"square\")\n",
       "matplot(matrix(1:12, 4), type=\"c\", lty=1, lwd=10, lend=lends)\n",
       "text(cbind(2.5, 2*c(1,3,5)-.4), lends, col= 1:3, cex = 1.5)\n",
       "\n",
       "table(iris$Species) # is data.frame with 'Species' factor\n",
       "iS <- iris$Species == \"setosa\"\n",
       "iV <- iris$Species == \"versicolor\"\n",
       "op <- par(bg = \"bisque\")\n",
       "matplot(c(1, 8), c(0, 4.5), type =  \"n\", xlab = \"Length\", ylab = \"Width\",\n",
       "        main = \"Petal and Sepal Dimensions in Iris Blossoms\")\n",
       "matpoints(iris[iS,c(1,3)], iris[iS,c(2,4)], pch = \"sS\", col = c(2,4))\n",
       "matpoints(iris[iV,c(1,3)], iris[iV,c(2,4)], pch = \"vV\", col = c(2,4))\n",
       "legend(1, 4, c(\"    Setosa Petals\", \"    Setosa Sepals\",\n",
       "               \"Versicolor Petals\", \"Versicolor Sepals\"),\n",
       "       pch = \"sSvV\", col = rep(c(2,4), 2))\n",
       "\n",
       "nam.var <- colnames(iris)[-5]\n",
       "nam.spec <- as.character(iris[1+50*0:2, \"Species\"])\n",
       "iris.S <- array(NA, dim = c(50,4,3),\n",
       "                dimnames = list(NULL, nam.var, nam.spec))\n",
       "for(i in 1:3) iris.S[,,i] <- data.matrix(iris[1:50+50*(i-1), -5])\n",
       "\n",
       "matplot(iris.S[, \"Petal.Length\",], iris.S[, \"Petal.Width\",], pch = \"SCV\",\n",
       "        col = rainbow(3, start = 0.8, end = 0.1),\n",
       "        sub = paste(c(\"S\", \"C\", \"V\"), dimnames(iris.S)[[3]],\n",
       "                    sep = \"=\", collapse= \",  \"),\n",
       "        main = \"Fisher's Iris Data\")\n",
       "par(op)\n",
       "\\end{ExampleCode}\n",
       "\\end{Examples}"
      ],
      "text/plain": [
       "matplot                package:graphics                R Documentation\n",
       "\n",
       "_\bP_\bl_\bo_\bt _\bC_\bo_\bl_\bu_\bm_\bn_\bs _\bo_\bf _\bM_\ba_\bt_\br_\bi_\bc_\be_\bs\n",
       "\n",
       "_\bD_\be_\bs_\bc_\br_\bi_\bp_\bt_\bi_\bo_\bn:\n",
       "\n",
       "     Plot the columns of one matrix against the columns of another.\n",
       "\n",
       "_\bU_\bs_\ba_\bg_\be:\n",
       "\n",
       "     matplot(x, y, type = \"p\", lty = 1:5, lwd = 1, lend = par(\"lend\"),\n",
       "             pch = NULL,\n",
       "             col = 1:6, cex = NULL, bg = NA,\n",
       "             xlab = NULL, ylab = NULL, xlim = NULL, ylim = NULL,\n",
       "             log = \"\", ..., add = FALSE, verbose = getOption(\"verbose\"))\n",
       "     \n",
       "     matpoints(x, y, type = \"p\", lty = 1:5, lwd = 1, pch = NULL,\n",
       "               col = 1:6, ...)\n",
       "     \n",
       "     matlines (x, y, type = \"l\", lty = 1:5, lwd = 1, pch = NULL,\n",
       "               col = 1:6, ...)\n",
       "     \n",
       "_\bA_\br_\bg_\bu_\bm_\be_\bn_\bt_\bs:\n",
       "\n",
       "     x,y: vectors or matrices of data for plotting.  The number of rows\n",
       "          should match.  If one of them are missing, the other is taken\n",
       "          as 'y' and an 'x' vector of '1:n' is used.  Missing values\n",
       "          ('NA's) are allowed.\n",
       "\n",
       "    type: character string (length 1 vector) or vector of 1-character\n",
       "          strings indicating the type of plot for each column of 'y',\n",
       "          see 'plot' for all possible 'type's.  The first character of\n",
       "          'type' defines the first plot, the second character the\n",
       "          second, etc.  Characters in 'type' are cycled through; e.g.,\n",
       "          '\"pl\"' alternately plots points and lines.\n",
       "\n",
       "lty,lwd,lend: vector of line types, widths, and end styles.  The first\n",
       "          element is for the first column, the second element for the\n",
       "          second column, etc., even if lines are not plotted for all\n",
       "          columns. Line types will be used cyclically until all plots\n",
       "          are drawn.\n",
       "\n",
       "     pch: character string or vector of 1-characters or integers for\n",
       "          plotting characters, see 'points'.  The first character is\n",
       "          the plotting-character for the first plot, the second for the\n",
       "          second, etc.  The default is the digits (1 through 9, 0) then\n",
       "          the lowercase and uppercase letters.\n",
       "\n",
       "     col: vector of colors.  Colors are used cyclically.\n",
       "\n",
       "     cex: vector of character expansion sizes, used cyclically.  This\n",
       "          works as a multiple of 'par(\"cex\")'.  'NULL' is equivalent to\n",
       "          '1.0'.\n",
       "\n",
       "      bg: vector of background (fill) colors for the open plot symbols\n",
       "          given by 'pch = 21:25' as in 'points'.  The default 'NA'\n",
       "          corresponds to the one of the underlying function 'plot.xy'.\n",
       "\n",
       "xlab, ylab: titles for x and y axes, as in 'plot'.\n",
       "\n",
       "xlim, ylim: ranges of x and y axes, as in 'plot'.\n",
       "\n",
       "log, ...: Graphical parameters (see 'par') and any further arguments of\n",
       "          'plot', typically 'plot.default', may also be supplied as\n",
       "          arguments to this function; even 'panel.first' etc now work.\n",
       "          Hence, the high-level graphics control arguments described\n",
       "          under 'par' and the arguments to 'title' may be supplied to\n",
       "          this function.\n",
       "\n",
       "     add: logical.  If 'TRUE', plots are added to current one, using\n",
       "          'points' and 'lines'.\n",
       "\n",
       " verbose: logical.  If 'TRUE', write one line of what is done.\n",
       "\n",
       "_\bD_\be_\bt_\ba_\bi_\bl_\bs:\n",
       "\n",
       "     Points involving missing values are not plotted.\n",
       "\n",
       "     The first column of 'x' is plotted against the first column of\n",
       "     'y', the second column of 'x' against the second column of 'y',\n",
       "     etc.  If one matrix has fewer columns, plotting will cycle back\n",
       "     through the columns again.  (In particular, either 'x' or 'y' may\n",
       "     be a vector, against which all columns of the other argument will\n",
       "     be plotted.)\n",
       "\n",
       "     The first element of 'col, cex, lty, lwd' is used to plot the axes\n",
       "     as well as the first line.\n",
       "\n",
       "     Because plotting symbols are drawn with lines and because these\n",
       "     functions may be changing the line style, you should probably\n",
       "     specify 'lty = 1' when using plotting symbols.\n",
       "\n",
       "_\bS_\bi_\bd_\be _\bE_\bf_\bf_\be_\bc_\bt_\bs:\n",
       "\n",
       "     Function 'matplot' generates a new plot; 'matpoints' and\n",
       "     'matlines' add to the current one.\n",
       "\n",
       "_\bR_\be_\bf_\be_\br_\be_\bn_\bc_\be_\bs:\n",
       "\n",
       "     Becker, R. A., Chambers, J. M. and Wilks, A. R. (1988) _The New S\n",
       "     Language_.  Wadsworth & Brooks/Cole.\n",
       "\n",
       "_\bS_\be_\be _\bA_\bl_\bs_\bo:\n",
       "\n",
       "     'plot', 'points', 'lines', 'matrix', 'par'.\n",
       "\n",
       "_\bE_\bx_\ba_\bm_\bp_\bl_\be_\bs:\n",
       "\n",
       "     require(grDevices)\n",
       "     matplot((-4:5)^2, main = \"Quadratic\") # almost identical to plot(*)\n",
       "     sines <- outer(1:20, 1:4, function(x, y) sin(x / 20 * pi * y))\n",
       "     matplot(sines, pch = 1:4, type = \"o\", col = rainbow(ncol(sines)))\n",
       "     matplot(sines, type = \"b\", pch = 21:23, col = 2:5, bg = 2:5,\n",
       "             main = \"matplot(...., pch = 21:23, bg = 2:5)\")\n",
       "     \n",
       "     x <- 0:50/50\n",
       "     matplot(x, outer(x, 1:8, function(x, k) sin(k*pi * x)),\n",
       "             ylim = c(-2,2), type = \"plobcsSh\",\n",
       "             main= \"matplot(,type = \\\"plobcsSh\\\" )\")\n",
       "     ## pch & type =  vector of 1-chars :\n",
       "     matplot(x, outer(x, 1:4, function(x, k) sin(k*pi * x)),\n",
       "             pch = letters[1:4], type = c(\"b\",\"p\",\"o\"))\n",
       "     \n",
       "     lends <- c(\"round\",\"butt\",\"square\")\n",
       "     matplot(matrix(1:12, 4), type=\"c\", lty=1, lwd=10, lend=lends)\n",
       "     text(cbind(2.5, 2*c(1,3,5)-.4), lends, col= 1:3, cex = 1.5)\n",
       "     \n",
       "     table(iris$Species) # is data.frame with 'Species' factor\n",
       "     iS <- iris$Species == \"setosa\"\n",
       "     iV <- iris$Species == \"versicolor\"\n",
       "     op <- par(bg = \"bisque\")\n",
       "     matplot(c(1, 8), c(0, 4.5), type =  \"n\", xlab = \"Length\", ylab = \"Width\",\n",
       "             main = \"Petal and Sepal Dimensions in Iris Blossoms\")\n",
       "     matpoints(iris[iS,c(1,3)], iris[iS,c(2,4)], pch = \"sS\", col = c(2,4))\n",
       "     matpoints(iris[iV,c(1,3)], iris[iV,c(2,4)], pch = \"vV\", col = c(2,4))\n",
       "     legend(1, 4, c(\"    Setosa Petals\", \"    Setosa Sepals\",\n",
       "                    \"Versicolor Petals\", \"Versicolor Sepals\"),\n",
       "            pch = \"sSvV\", col = rep(c(2,4), 2))\n",
       "     \n",
       "     nam.var <- colnames(iris)[-5]\n",
       "     nam.spec <- as.character(iris[1+50*0:2, \"Species\"])\n",
       "     iris.S <- array(NA, dim = c(50,4,3),\n",
       "                     dimnames = list(NULL, nam.var, nam.spec))\n",
       "     for(i in 1:3) iris.S[,,i] <- data.matrix(iris[1:50+50*(i-1), -5])\n",
       "     \n",
       "     matplot(iris.S[, \"Petal.Length\",], iris.S[, \"Petal.Width\",], pch = \"SCV\",\n",
       "             col = rainbow(3, start = 0.8, end = 0.1),\n",
       "             sub = paste(c(\"S\", \"C\", \"V\"), dimnames(iris.S)[[3]],\n",
       "                         sep = \"=\", collapse= \",  \"),\n",
       "             main = \"Fisher's Iris Data\")\n",
       "     par(op)\n",
       "     "
      ]
     },
     "metadata": {},
     "output_type": "display_data"
    }
   ],
   "source": [
    "?matplot"
   ]
  },
  {
   "cell_type": "code",
   "execution_count": 49,
   "id": "071ae66e-3d10-4875-9bf1-9068fecda8ff",
   "metadata": {},
   "outputs": [
    {
     "data": {
      "image/png": "[encoded data removed]",
      "text/plain": [
       "plot without title"
      ]
     },
     "metadata": {},
     "output_type": "display_data"
    }
   ],
   "source": [
    "matplot(t(b))"
   ]
  },
  {
   "cell_type": "code",
   "execution_count": 56,
   "id": "f5134e53-c6d0-4ff5-86e3-119edb099b50",
   "metadata": {},
   "outputs": [
    {
     "data": {
      "image/png": "[encoded data removed]",
      "text/plain": [
       "plot without title"
      ]
     },
     "metadata": {},
     "output_type": "display_data"
    }
   ],
   "source": [
    "matplot(a, type=\"o\", xlab=\"scores\", ylab=\"value\")"
   ]
  },
  {
   "cell_type": "code",
   "execution_count": 57,
   "id": "46bb6dee-1a1e-4668-878f-a62c6e726c9f",
   "metadata": {},
   "outputs": [
    {
     "data": {
      "text/html": [
       "<table>\n",
       "<tbody>\n",
       "\t<tr><td> 30</td><td>90 </td><td>100</td><td> 20</td><td> 56</td></tr>\n",
       "\t<tr><td> 56</td><td>30 </td><td> 90</td><td>100</td><td> 20</td></tr>\n",
       "\t<tr><td> 20</td><td>56 </td><td> 30</td><td> 90</td><td>100</td></tr>\n",
       "\t<tr><td>100</td><td>20 </td><td> 56</td><td> 30</td><td> 90</td></tr>\n",
       "</tbody>\n",
       "</table>\n"
      ],
      "text/latex": [
       "\\begin{tabular}{lllll}\n",
       "\t  30 & 90  & 100 &  20 &  56\\\\\n",
       "\t  56 & 30  &  90 & 100 &  20\\\\\n",
       "\t  20 & 56  &  30 &  90 & 100\\\\\n",
       "\t 100 & 20  &  56 &  30 &  90\\\\\n",
       "\\end{tabular}\n"
      ],
      "text/markdown": [
       "\n",
       "|  30 | 90  | 100 |  20 |  56 |\n",
       "|  56 | 30  |  90 | 100 |  20 |\n",
       "|  20 | 56  |  30 |  90 | 100 |\n",
       "| 100 | 20  |  56 |  30 |  90 |\n",
       "\n"
      ],
      "text/plain": [
       "     [,1] [,2] [,3] [,4] [,5]\n",
       "[1,]  30  90   100   20   56 \n",
       "[2,]  56  30    90  100   20 \n",
       "[3,]  20  56    30   90  100 \n",
       "[4,] 100  20    56   30   90 "
      ]
     },
     "metadata": {},
     "output_type": "display_data"
    }
   ],
   "source": [
    "cbind(a)"
   ]
  },
  {
   "cell_type": "code",
   "execution_count": 58,
   "id": "17b48254-b77e-48ed-a451-a7ff68c099b2",
   "metadata": {},
   "outputs": [
    {
     "data": {
      "text/html": [
       "<table>\n",
       "<tbody>\n",
       "\t<tr><td> 30</td><td>90 </td><td>100</td><td> 20</td><td> 56</td></tr>\n",
       "\t<tr><td> 56</td><td>30 </td><td> 90</td><td>100</td><td> 20</td></tr>\n",
       "\t<tr><td> 20</td><td>56 </td><td> 30</td><td> 90</td><td>100</td></tr>\n",
       "\t<tr><td>100</td><td>20 </td><td> 56</td><td> 30</td><td> 90</td></tr>\n",
       "</tbody>\n",
       "</table>\n"
      ],
      "text/latex": [
       "\\begin{tabular}{lllll}\n",
       "\t  30 & 90  & 100 &  20 &  56\\\\\n",
       "\t  56 & 30  &  90 & 100 &  20\\\\\n",
       "\t  20 & 56  &  30 &  90 & 100\\\\\n",
       "\t 100 & 20  &  56 &  30 &  90\\\\\n",
       "\\end{tabular}\n"
      ],
      "text/markdown": [
       "\n",
       "|  30 | 90  | 100 |  20 |  56 |\n",
       "|  56 | 30  |  90 | 100 |  20 |\n",
       "|  20 | 56  |  30 |  90 | 100 |\n",
       "| 100 | 20  |  56 |  30 |  90 |\n",
       "\n"
      ],
      "text/plain": [
       "     [,1] [,2] [,3] [,4] [,5]\n",
       "[1,]  30  90   100   20   56 \n",
       "[2,]  56  30    90  100   20 \n",
       "[3,]  20  56    30   90  100 \n",
       "[4,] 100  20    56   30   90 "
      ]
     },
     "metadata": {},
     "output_type": "display_data"
    }
   ],
   "source": [
    "rbind(a)"
   ]
  },
  {
   "cell_type": "code",
   "execution_count": 59,
   "id": "f0a05ee0-89be-4333-bb92-e987fefebd95",
   "metadata": {},
   "outputs": [
    {
     "data": {
      "text/html": [
       "\n",
       "<table width=\"100%\" summary=\"page for cbind {base}\"><tr><td>cbind {base}</td><td style=\"text-align: right;\">R Documentation</td></tr></table>\n",
       "\n",
       "<h2>Combine R Objects by Rows or Columns</h2>\n",
       "\n",
       "<h3>Description</h3>\n",
       "\n",
       "<p>Take a sequence of vector, matrix or data-frame arguments and combine\n",
       "by <em>c</em>olumns or <em>r</em>ows, respectively.  These are generic\n",
       "functions with methods for other <span style=\"font-family: Courier New, Courier; color: #666666;\"><b>R</b></span> classes.\n",
       "</p>\n",
       "\n",
       "\n",
       "<h3>Usage</h3>\n",
       "\n",
       "<pre>\n",
       "cbind(..., deparse.level = 1)\n",
       "rbind(..., deparse.level = 1)\n",
       "## S3 method for class 'data.frame'\n",
       "rbind(..., deparse.level = 1, make.row.names = TRUE,\n",
       "      stringsAsFactors = default.stringsAsFactors(), factor.exclude = NA)\n",
       "</pre>\n",
       "\n",
       "\n",
       "<h3>Arguments</h3>\n",
       "\n",
       "<table summary=\"R argblock\">\n",
       "<tr valign=\"top\"><td><code>...</code></td>\n",
       "<td>\n",
       "<p>(generalized) vectors or matrices.  These can be given as named\n",
       "arguments.  Other <span style=\"font-family: Courier New, Courier; color: #666666;\"><b>R</b></span> objects may be coerced as appropriate, or S4\n",
       "methods may be used: see sections &lsquo;Details&rsquo; and\n",
       "&lsquo;Value&rsquo;.  (For the <code>\"data.frame\"</code> method of <code>cbind</code>\n",
       "these can be further arguments to <code>data.frame</code> such as\n",
       "<code>stringsAsFactors</code>.)</p>\n",
       "</td></tr>\n",
       "<tr valign=\"top\"><td><code>deparse.level</code></td>\n",
       "<td>\n",
       "<p>integer controlling the construction of labels in\n",
       "the case of non-matrix-like arguments (for the default method):<br />\n",
       "<code>deparse.level = 0</code> constructs no labels; the default,<br />\n",
       "<code>deparse.level = 1 or 2</code> constructs labels from the argument\n",
       "names, see the &lsquo;Value&rsquo; section below.</p>\n",
       "</td></tr>\n",
       "<tr valign=\"top\"><td><code>make.row.names</code></td>\n",
       "<td>\n",
       "<p>(only for data frame method:) logical\n",
       "indicating if unique and valid <code>row.names</code> should be\n",
       "constructed from the arguments.</p>\n",
       "</td></tr>\n",
       "<tr valign=\"top\"><td><code>stringsAsFactors</code></td>\n",
       "<td>\n",
       "<p>logical, passed to <code>as.data.frame</code>;\n",
       "only has an effect when the <code>...</code> arguments contain a\n",
       "(non-<code>data.frame</code>) <code>character</code>.</p>\n",
       "</td></tr>\n",
       "<tr valign=\"top\"><td><code>factor.exclude</code></td>\n",
       "<td>\n",
       "<p>if the data frames contain factors,\n",
       "<code>TRUE</code> ensures that <code>NA</code> levels of factors are kept, see\n",
       "<a href=\"https://bugs.R-project.org/bugzilla3/show_bug.cgi?id=17562\">PR#17562</a> and the &lsquo;Data frame methods&rsquo;.  In <span style=\"font-family: Courier New, Courier; color: #666666;\"><b>R</b></span> versions up\n",
       "to 3.6.x, <code>factor.exclude = NA</code> has been implicitly hardcoded\n",
       "(<span style=\"font-family: Courier New, Courier; color: #666666;\"><b>R</b></span> &lt;= 3.6.0) or the default (<span style=\"font-family: Courier New, Courier; color: #666666;\"><b>R</b></span> = 3.6.x, x &gt;= 1).</p>\n",
       "</td></tr>\n",
       "</table>\n",
       "\n",
       "\n",
       "<h3>Details</h3>\n",
       "\n",
       "<p>The functions <code>cbind</code> and <code>rbind</code> are S3 generic, with\n",
       "methods for data frames.  The data frame method will be used if at\n",
       "least one argument is a data frame and the rest are vectors or\n",
       "matrices.  There can be other methods; in particular, there is one for\n",
       "time series objects.  See the section on &lsquo;Dispatch&rsquo; for how\n",
       "the method to be used is selected.  If some of the arguments are of an\n",
       "S4 class, i.e., <code>isS4(.)</code> is true, S4 methods are sought\n",
       "also, and the hidden <code>cbind</code> / <code>rbind</code> functions\n",
       "from package <span class=\"pkg\">methods</span> maybe called, which in turn build on\n",
       "<code>cbind2</code> or <code>rbind2</code>, respectively.  In that\n",
       "case, <code>deparse.level</code> is obeyed, similarly to the default method.\n",
       "</p>\n",
       "<p>In the default method, all the vectors/matrices must be atomic (see\n",
       "<code>vector</code>) or lists.  Expressions are not allowed.\n",
       "Language objects (such as formulae and calls) and pairlists will be\n",
       "coerced to lists: other objects (such as names and external pointers)\n",
       "will be included as elements in a list result.  Any classes the inputs\n",
       "might have are discarded (in particular, factors are replaced by their\n",
       "internal codes).\n",
       "</p>\n",
       "<p>If there are several matrix arguments, they must all have the same\n",
       "number of columns (or rows) and this will be the number of columns (or\n",
       "rows) of the result.  If all the arguments are vectors, the number of\n",
       "columns (rows) in the result is equal to the length of the longest\n",
       "vector.  Values in shorter arguments are recycled to achieve this\n",
       "length (with a <code>warning</code> if they are recycled only\n",
       "<em>fractionally</em>).\n",
       "</p>\n",
       "<p>When the arguments consist of a mix of matrices and vectors the number\n",
       "of columns (rows) of the result is determined by the number of columns\n",
       "(rows) of the matrix arguments.  Any vectors have their values\n",
       "recycled or subsetted to achieve this length.\n",
       "</p>\n",
       "<p>For <code>cbind</code> (<code>rbind</code>), vectors of zero length (including\n",
       "<code>NULL</code>) are ignored unless the result would have zero rows\n",
       "(columns), for S compatibility.\n",
       "(Zero-extent matrices do not occur in S3 and are not ignored in <span style=\"font-family: Courier New, Courier; color: #666666;\"><b>R</b></span>.)\n",
       "</p>\n",
       "<p>Matrices are restricted to less than <i>2^31</i> rows and\n",
       "columns even on 64-bit systems.  So input vectors have the same length\n",
       "restriction: as from <span style=\"font-family: Courier New, Courier; color: #666666;\"><b>R</b></span> 3.2.0 input matrices with more elements (but\n",
       "meeting the row and column restrictions) are allowed.\n",
       "</p>\n",
       "\n",
       "\n",
       "<h3>Value</h3>\n",
       "\n",
       "<p>For the default method, a matrix combining the <code>...</code> arguments\n",
       "column-wise or row-wise.  (Exception: if there are no inputs or all\n",
       "the inputs are <code>NULL</code>, the value is <code>NULL</code>.)\n",
       "</p>\n",
       "<p>The type of a matrix result determined from the highest type of any of\n",
       "the inputs in the hierarchy raw &lt; logical &lt; integer &lt; double &lt; complex &lt;\n",
       "character &lt; list .\n",
       "</p>\n",
       "<p>For <code>cbind</code> (<code>rbind</code>) the column (row) names are taken from\n",
       "the <code>colnames</code> (<code>rownames</code>) of the arguments if these are\n",
       "matrix-like.  Otherwise from the names of the arguments or where those\n",
       "are not supplied and <code>deparse.level &gt; 0</code>, by deparsing the\n",
       "expressions given, for <code>deparse.level = 1</code> only if that gives a\n",
       "sensible name (a &lsquo;symbol&rsquo;, see <code>is.symbol</code>).\n",
       "</p>\n",
       "<p>For <code>cbind</code> row names are taken from the first argument with\n",
       "appropriate names: rownames for a matrix, or names for a vector of\n",
       "length the number of rows of the result.\n",
       "</p>\n",
       "<p>For <code>rbind</code> column names are taken from the first argument with\n",
       "appropriate names: colnames for a matrix, or names for a vector of\n",
       "length the number of columns of the result.\n",
       "</p>\n",
       "\n",
       "\n",
       "<h3>Data frame methods</h3>\n",
       "\n",
       "<p>The <code>cbind</code> data frame method is just a wrapper for\n",
       "<code>data.frame(..., check.names = FALSE)</code>.  This means that\n",
       "it will split matrix columns in data frame arguments, and convert\n",
       "character columns to factors unless <code>stringsAsFactors = FALSE</code> is\n",
       "specified.\n",
       "</p>\n",
       "<p>The <code>rbind</code> data frame method first drops all zero-column and\n",
       "zero-row arguments.  (If that leaves none, it returns the first\n",
       "argument with columns otherwise a zero-column zero-row data frame.)\n",
       "It then takes the classes of the columns from the\n",
       "first data frame, and matches columns by name (rather than by\n",
       "position).  Factors have their levels expanded as necessary (in the\n",
       "order of the levels of the levelsets of the factors encountered) and\n",
       "the result is an ordered factor if and only if all the components were\n",
       "ordered factors.  (The last point differs from S-PLUS.)  Old-style\n",
       "categories (integer vectors with levels) are promoted to factors.\n",
       "</p>\n",
       "<p>Note that for result column <code>j</code>, <code>factor(., exclude = X(j))</code>\n",
       "is applied, where </p>\n",
       "<pre>  X(j) := if(isTRUE(factor.exclude)) {\n",
       "             if(!NA.lev[j]) NA # else NULL\n",
       "          } else factor.exclude</pre>\n",
       "<p>where <code>NA.lev[j]</code> is true iff any contributing data frame has had a\n",
       "<code>factor</code> in column <code>j</code> with an explicit <code>NA</code> level.\n",
       "</p>\n",
       "\n",
       "\n",
       "<h3>Dispatch</h3>\n",
       "\n",
       "<p>The method dispatching is <em>not</em> done via\n",
       "<code>UseMethod()</code>, but by C-internal dispatching.\n",
       "Therefore there is no need for, e.g., <code>rbind.default</code>.\n",
       "</p>\n",
       "<p>The dispatch algorithm is described in the source file\n",
       "(&lsquo;<span class=\"file\">.../src/main/bind.c</span>&rsquo;) as\n",
       "</p>\n",
       "\n",
       "<ol>\n",
       "<li><p> For each argument we get the list of possible class\n",
       "memberships from the class attribute.\n",
       "</p>\n",
       "</li>\n",
       "<li><p> We inspect each class in turn to see if there is an\n",
       "applicable method.\n",
       "</p>\n",
       "</li>\n",
       "<li><p> If we find an applicable method we make sure that it is\n",
       "identical to any method determined for prior arguments.\n",
       "If it is identical, we proceed, otherwise we immediately\n",
       "drop through to the default code.\n",
       "</p>\n",
       "</li></ol>\n",
       "\n",
       "<p>If you want to combine other objects with data frames, it may be\n",
       "necessary to coerce them to data frames first.  (Note that this\n",
       "algorithm can result in calling the data frame method if all the\n",
       "arguments are either data frames or vectors, and this will result in\n",
       "the coercion of character vectors to factors.)\n",
       "</p>\n",
       "\n",
       "\n",
       "<h3>References</h3>\n",
       "\n",
       "<p>Becker, R. A., Chambers, J. M. and Wilks, A. R. (1988)\n",
       "<em>The New S Language</em>.\n",
       "Wadsworth &amp; Brooks/Cole.\n",
       "</p>\n",
       "\n",
       "\n",
       "<h3>See Also</h3>\n",
       "\n",
       "<p><code>c</code> to combine vectors (and lists) as vectors,\n",
       "<code>data.frame</code> to combine vectors and matrices as a data\n",
       "frame.\n",
       "</p>\n",
       "\n",
       "\n",
       "<h3>Examples</h3>\n",
       "\n",
       "<pre>\n",
       "m &lt;- cbind(1, 1:7) # the '1' (= shorter vector) is recycled\n",
       "m\n",
       "m &lt;- cbind(m, 8:14)[, c(1, 3, 2)] # insert a column\n",
       "m\n",
       "cbind(1:7, diag(3)) # vector is subset -&gt; warning\n",
       "\n",
       "cbind(0, rbind(1, 1:3))\n",
       "cbind(I = 0, X = rbind(a = 1, b = 1:3))  # use some names\n",
       "xx &lt;- data.frame(I = rep(0,2))\n",
       "cbind(xx, X = rbind(a = 1, b = 1:3))   # named differently\n",
       "\n",
       "cbind(0, matrix(1, nrow = 0, ncol = 4)) #&gt; Warning (making sense)\n",
       "dim(cbind(0, matrix(1, nrow = 2, ncol = 0))) #-&gt; 2 x 1\n",
       "\n",
       "## deparse.level\n",
       "dd &lt;- 10\n",
       "rbind(1:4, c = 2, \"a++\" = 10, dd, deparse.level = 0) # middle 2 rownames\n",
       "rbind(1:4, c = 2, \"a++\" = 10, dd, deparse.level = 1) # 3 rownames (default)\n",
       "rbind(1:4, c = 2, \"a++\" = 10, dd, deparse.level = 2) # 4 rownames\n",
       "\n",
       "## cheap row names:\n",
       "b0 &lt;- gl(3,4, labels=letters[1:3])\n",
       "bf &lt;- setNames(b0, paste0(\"o\", seq_along(b0)))\n",
       "df  &lt;- data.frame(a = 1, B = b0, f = gl(4,3))\n",
       "df. &lt;- data.frame(a = 1, B = bf, f = gl(4,3))\n",
       "new &lt;- data.frame(a = 8, B =\"B\", f = \"1\")\n",
       "(df1  &lt;- rbind(df , new))\n",
       "(df.1 &lt;- rbind(df., new))\n",
       "stopifnot(identical(df1, rbind(df,  new, make.row.names=FALSE)),\n",
       "          identical(df1, rbind(df., new, make.row.names=FALSE)))\n",
       "\n",
       "</pre>\n",
       "\n",
       "<hr /><div style=\"text-align: center;\">[Package <em>base</em> version 3.6.1 ]</div>"
      ],
      "text/latex": [
       "\\inputencoding{utf8}\n",
       "\\HeaderA{cbind}{Combine R Objects by Rows or Columns}{cbind}\n",
       "\\aliasA{.\\_\\_H\\_\\_.cbind}{cbind}{..Rul..Rul.H.Rul..Rul..cbind}\n",
       "\\aliasA{.\\_\\_H\\_\\_.rbind}{cbind}{..Rul..Rul.H.Rul..Rul..rbind}\n",
       "\\methaliasA{cbind.data.frame}{cbind}{cbind.data.frame}\n",
       "\\aliasA{rbind}{cbind}{rbind}\n",
       "\\methaliasA{rbind.data.frame}{cbind}{rbind.data.frame}\n",
       "\\keyword{array}{cbind}\n",
       "\\keyword{manip}{cbind}\n",
       "%\n",
       "\\begin{Description}\\relax\n",
       "Take a sequence of vector, matrix or data-frame arguments and combine\n",
       "by \\emph{c}olumns or \\emph{r}ows, respectively.  These are generic\n",
       "functions with methods for other \\R{} classes.\n",
       "\\end{Description}\n",
       "%\n",
       "\\begin{Usage}\n",
       "\\begin{verbatim}\n",
       "cbind(..., deparse.level = 1)\n",
       "rbind(..., deparse.level = 1)\n",
       "## S3 method for class 'data.frame'\n",
       "rbind(..., deparse.level = 1, make.row.names = TRUE,\n",
       "      stringsAsFactors = default.stringsAsFactors(), factor.exclude = NA)\n",
       "\\end{verbatim}\n",
       "\\end{Usage}\n",
       "%\n",
       "\\begin{Arguments}\n",
       "\\begin{ldescription}\n",
       "\\item[\\code{...}] (generalized) vectors or matrices.  These can be given as named\n",
       "arguments.  Other \\R{} objects may be coerced as appropriate, or S4\n",
       "methods may be used: see sections `Details' and\n",
       "`Value'.  (For the \\code{\"data.frame\"} method of \\code{cbind}\n",
       "these can be further arguments to \\code{\\LinkA{data.frame}{data.frame}} such as\n",
       "\\code{stringsAsFactors}.)\n",
       "\\item[\\code{deparse.level}] integer controlling the construction of labels in\n",
       "the case of non-matrix-like arguments (for the default method):\\\\{}\n",
       "\\code{deparse.level = 0} constructs no labels; the default,\\\\{}\n",
       "\\code{deparse.level = 1 or 2} constructs labels from the argument\n",
       "names, see the `Value' section below.\n",
       "\\item[\\code{make.row.names}] (only for data frame method:) logical\n",
       "indicating if unique and valid \\code{\\LinkA{row.names}{row.names}} should be\n",
       "constructed from the arguments.\n",
       "\\item[\\code{stringsAsFactors}] logical, passed to \\code{\\LinkA{as.data.frame}{as.data.frame}};\n",
       "only has an effect when the \\code{...} arguments contain a\n",
       "(non-\\code{data.frame}) \\code{\\LinkA{character}{character}}.\n",
       "\\item[\\code{factor.exclude}] if the data frames contain factors,\n",
       "\\code{TRUE} ensures that \\code{NA} levels of factors are kept, see\n",
       "\\Rhref{https://bugs.R-project.org/bugzilla3/show_bug.cgi?id=17562}{PR\\#17562} and the `Data frame methods'.  In \\R{} versions up\n",
       "to 3.6.x, \\code{factor.exclude = NA} has been implicitly hardcoded\n",
       "(\\R{} <= 3.6.0) or the default (\\R{} = 3.6.x, x >= 1).\n",
       "\\end{ldescription}\n",
       "\\end{Arguments}\n",
       "%\n",
       "\\begin{Details}\\relax\n",
       "The functions \\code{cbind} and \\code{rbind} are S3 generic, with\n",
       "methods for data frames.  The data frame method will be used if at\n",
       "least one argument is a data frame and the rest are vectors or\n",
       "matrices.  There can be other methods; in particular, there is one for\n",
       "time series objects.  See the section on `Dispatch' for how\n",
       "the method to be used is selected.  If some of the arguments are of an\n",
       "S4 class, i.e., \\code{\\LinkA{isS4}{isS4}(.)} is true, S4 methods are sought\n",
       "also, and the hidden \\code{cbind} / \\code{rbind} functions\n",
       "from package \\pkg{methods} maybe called, which in turn build on\n",
       "\\code{\\LinkA{cbind2}{cbind2}} or \\code{\\LinkA{rbind2}{rbind2}}, respectively.  In that\n",
       "case, \\code{deparse.level} is obeyed, similarly to the default method.\n",
       "\n",
       "In the default method, all the vectors/matrices must be atomic (see\n",
       "\\code{\\LinkA{vector}{vector}}) or lists.  Expressions are not allowed.\n",
       "Language objects (such as formulae and calls) and pairlists will be\n",
       "coerced to lists: other objects (such as names and external pointers)\n",
       "will be included as elements in a list result.  Any classes the inputs\n",
       "might have are discarded (in particular, factors are replaced by their\n",
       "internal codes).\n",
       "\n",
       "If there are several matrix arguments, they must all have the same\n",
       "number of columns (or rows) and this will be the number of columns (or\n",
       "rows) of the result.  If all the arguments are vectors, the number of\n",
       "columns (rows) in the result is equal to the length of the longest\n",
       "vector.  Values in shorter arguments are recycled to achieve this\n",
       "length (with a \\code{\\LinkA{warning}{warning}} if they are recycled only\n",
       "\\emph{fractionally}).\n",
       "\n",
       "When the arguments consist of a mix of matrices and vectors the number\n",
       "of columns (rows) of the result is determined by the number of columns\n",
       "(rows) of the matrix arguments.  Any vectors have their values\n",
       "recycled or subsetted to achieve this length.\n",
       "\n",
       "For \\code{cbind} (\\code{rbind}), vectors of zero length (including\n",
       "\\code{NULL}) are ignored unless the result would have zero rows\n",
       "(columns), for S compatibility.\n",
       "(Zero-extent matrices do not occur in S3 and are not ignored in \\R{}.)\n",
       "\n",
       "Matrices are restricted to less than \\eqn{2^{31}}{} rows and\n",
       "columns even on 64-bit systems.  So input vectors have the same length\n",
       "restriction: as from \\R{} 3.2.0 input matrices with more elements (but\n",
       "meeting the row and column restrictions) are allowed.\n",
       "\\end{Details}\n",
       "%\n",
       "\\begin{Value}\n",
       "For the default method, a matrix combining the \\code{...} arguments\n",
       "column-wise or row-wise.  (Exception: if there are no inputs or all\n",
       "the inputs are \\code{NULL}, the value is \\code{NULL}.)\n",
       "\n",
       "The type of a matrix result determined from the highest type of any of\n",
       "the inputs in the hierarchy raw < logical < integer < double < complex <\n",
       "character < list .\n",
       "\n",
       "For \\code{cbind} (\\code{rbind}) the column (row) names are taken from\n",
       "the \\code{colnames} (\\code{rownames}) of the arguments if these are\n",
       "matrix-like.  Otherwise from the names of the arguments or where those\n",
       "are not supplied and \\code{deparse.level > 0}, by deparsing the\n",
       "expressions given, for \\code{deparse.level = 1} only if that gives a\n",
       "sensible name (a `symbol', see \\code{\\LinkA{is.symbol}{is.symbol}}).\n",
       "\n",
       "For \\code{cbind} row names are taken from the first argument with\n",
       "appropriate names: rownames for a matrix, or names for a vector of\n",
       "length the number of rows of the result.\n",
       "\n",
       "For \\code{rbind} column names are taken from the first argument with\n",
       "appropriate names: colnames for a matrix, or names for a vector of\n",
       "length the number of columns of the result.\n",
       "\\end{Value}\n",
       "%\n",
       "\\begin{Section}{Data frame methods}\n",
       "The \\code{cbind} data frame method is just a wrapper for\n",
       "\\code{\\LinkA{data.frame}{data.frame}(..., check.names = FALSE)}.  This means that\n",
       "it will split matrix columns in data frame arguments, and convert\n",
       "character columns to factors unless \\code{stringsAsFactors = FALSE} is\n",
       "specified.\n",
       "\n",
       "The \\code{rbind} data frame method first drops all zero-column and\n",
       "zero-row arguments.  (If that leaves none, it returns the first\n",
       "argument with columns otherwise a zero-column zero-row data frame.)\n",
       "It then takes the classes of the columns from the\n",
       "first data frame, and matches columns by name (rather than by\n",
       "position).  Factors have their levels expanded as necessary (in the\n",
       "order of the levels of the levelsets of the factors encountered) and\n",
       "the result is an ordered factor if and only if all the components were\n",
       "ordered factors.  (The last point differs from S-PLUS.)  Old-style\n",
       "categories (integer vectors with levels) are promoted to factors.\n",
       "\n",
       "Note that for result column \\code{j}, \\code{\\LinkA{factor}{factor}(., exclude = X(j))}\n",
       "is applied, where \\begin{alltt}  X(j) := if(isTRUE(factor.exclude)) \\{\n",
       "             if(!NA.lev[j]) NA # else NULL\n",
       "          \\} else factor.exclude\\end{alltt}\n",
       "\n",
       "\n",
       "where \\code{NA.lev[j]} is true iff any contributing data frame has had a\n",
       "\\code{\\LinkA{factor}{factor}} in column \\code{j} with an explicit \\code{NA} level.\n",
       "\\end{Section}\n",
       "%\n",
       "\\begin{Section}{Dispatch}\n",
       "The method dispatching is \\emph{not} done via\n",
       "\\code{\\LinkA{UseMethod}{UseMethod}()}, but by C-internal dispatching.\n",
       "Therefore there is no need for, e.g., \\code{rbind.default}.\n",
       "\n",
       "The dispatch algorithm is described in the source file\n",
       "(\\file{.../src/main/bind.c}) as\n",
       "\n",
       "\\begin{enumerate}\n",
       "\n",
       "\\item{} For each argument we get the list of possible class\n",
       "memberships from the class attribute.\n",
       "\n",
       "\\item{} We inspect each class in turn to see if there is an\n",
       "applicable method.\n",
       "\n",
       "\\item{} If we find an applicable method we make sure that it is\n",
       "identical to any method determined for prior arguments.\n",
       "If it is identical, we proceed, otherwise we immediately\n",
       "drop through to the default code.\n",
       "\n",
       "\\end{enumerate}\n",
       "\n",
       "If you want to combine other objects with data frames, it may be\n",
       "necessary to coerce them to data frames first.  (Note that this\n",
       "algorithm can result in calling the data frame method if all the\n",
       "arguments are either data frames or vectors, and this will result in\n",
       "the coercion of character vectors to factors.)\n",
       "\\end{Section}\n",
       "%\n",
       "\\begin{References}\\relax\n",
       "Becker, R. A., Chambers, J. M. and Wilks, A. R. (1988)\n",
       "\\emph{The New S Language}.\n",
       "Wadsworth \\& Brooks/Cole.\n",
       "\\end{References}\n",
       "%\n",
       "\\begin{SeeAlso}\\relax\n",
       "\\code{\\LinkA{c}{c}} to combine vectors (and lists) as vectors,\n",
       "\\code{\\LinkA{data.frame}{data.frame}} to combine vectors and matrices as a data\n",
       "frame.\n",
       "\\end{SeeAlso}\n",
       "%\n",
       "\\begin{Examples}\n",
       "\\begin{ExampleCode}\n",
       "m <- cbind(1, 1:7) # the '1' (= shorter vector) is recycled\n",
       "m\n",
       "m <- cbind(m, 8:14)[, c(1, 3, 2)] # insert a column\n",
       "m\n",
       "cbind(1:7, diag(3)) # vector is subset -> warning\n",
       "\n",
       "cbind(0, rbind(1, 1:3))\n",
       "cbind(I = 0, X = rbind(a = 1, b = 1:3))  # use some names\n",
       "xx <- data.frame(I = rep(0,2))\n",
       "cbind(xx, X = rbind(a = 1, b = 1:3))   # named differently\n",
       "\n",
       "cbind(0, matrix(1, nrow = 0, ncol = 4)) #> Warning (making sense)\n",
       "dim(cbind(0, matrix(1, nrow = 2, ncol = 0))) #-> 2 x 1\n",
       "\n",
       "## deparse.level\n",
       "dd <- 10\n",
       "rbind(1:4, c = 2, \"a++\" = 10, dd, deparse.level = 0) # middle 2 rownames\n",
       "rbind(1:4, c = 2, \"a++\" = 10, dd, deparse.level = 1) # 3 rownames (default)\n",
       "rbind(1:4, c = 2, \"a++\" = 10, dd, deparse.level = 2) # 4 rownames\n",
       "\n",
       "## cheap row names:\n",
       "b0 <- gl(3,4, labels=letters[1:3])\n",
       "bf <- setNames(b0, paste0(\"o\", seq_along(b0)))\n",
       "df  <- data.frame(a = 1, B = b0, f = gl(4,3))\n",
       "df. <- data.frame(a = 1, B = bf, f = gl(4,3))\n",
       "new <- data.frame(a = 8, B =\"B\", f = \"1\")\n",
       "(df1  <- rbind(df , new))\n",
       "(df.1 <- rbind(df., new))\n",
       "stopifnot(identical(df1, rbind(df,  new, make.row.names=FALSE)),\n",
       "          identical(df1, rbind(df., new, make.row.names=FALSE)))\n",
       "\n",
       "\\end{ExampleCode}\n",
       "\\end{Examples}"
      ],
      "text/plain": [
       "cbind                   package:base                   R Documentation\n",
       "\n",
       "_\bC_\bo_\bm_\bb_\bi_\bn_\be _\bR _\bO_\bb_\bj_\be_\bc_\bt_\bs _\bb_\by _\bR_\bo_\bw_\bs _\bo_\br _\bC_\bo_\bl_\bu_\bm_\bn_\bs\n",
       "\n",
       "_\bD_\be_\bs_\bc_\br_\bi_\bp_\bt_\bi_\bo_\bn:\n",
       "\n",
       "     Take a sequence of vector, matrix or data-frame arguments and\n",
       "     combine by _c_olumns or _r_ows, respectively.  These are generic\n",
       "     functions with methods for other R classes.\n",
       "\n",
       "_\bU_\bs_\ba_\bg_\be:\n",
       "\n",
       "     cbind(..., deparse.level = 1)\n",
       "     rbind(..., deparse.level = 1)\n",
       "     ## S3 method for class 'data.frame'\n",
       "     rbind(..., deparse.level = 1, make.row.names = TRUE,\n",
       "           stringsAsFactors = default.stringsAsFactors(), factor.exclude = NA)\n",
       "     \n",
       "_\bA_\br_\bg_\bu_\bm_\be_\bn_\bt_\bs:\n",
       "\n",
       "     ...: (generalized) vectors or matrices.  These can be given as\n",
       "          named arguments.  Other R objects may be coerced as\n",
       "          appropriate, or S4 methods may be used: see sections\n",
       "          'Details' and 'Value'.  (For the '\"data.frame\"' method of\n",
       "          'cbind' these can be further arguments to 'data.frame' such\n",
       "          as 'stringsAsFactors'.)\n",
       "\n",
       "deparse.level: integer controlling the construction of labels in the\n",
       "          case of non-matrix-like arguments (for the default method):\n",
       "          'deparse.level = 0' constructs no labels; the default,\n",
       "          'deparse.level = 1 or 2' constructs labels from the argument\n",
       "          names, see the 'Value' section below.\n",
       "\n",
       "make.row.names: (only for data frame method:) logical indicating if\n",
       "          unique and valid 'row.names' should be constructed from the\n",
       "          arguments.\n",
       "\n",
       "stringsAsFactors: logical, passed to 'as.data.frame'; only has an\n",
       "          effect when the '...' arguments contain a (non-'data.frame')\n",
       "          'character'.\n",
       "\n",
       "factor.exclude: if the data frames contain factors, 'TRUE' ensures that\n",
       "          'NA' levels of factors are kept, see PR#17562 and the 'Data\n",
       "          frame methods'.  In R versions up to 3.6.x, 'factor.exclude =\n",
       "          NA' has been implicitly hardcoded (R <= 3.6.0) or the default\n",
       "          (R = 3.6.x, x >= 1).\n",
       "\n",
       "_\bD_\be_\bt_\ba_\bi_\bl_\bs:\n",
       "\n",
       "     The functions 'cbind' and 'rbind' are S3 generic, with methods for\n",
       "     data frames.  The data frame method will be used if at least one\n",
       "     argument is a data frame and the rest are vectors or matrices.\n",
       "     There can be other methods; in particular, there is one for time\n",
       "     series objects.  See the section on 'Dispatch' for how the method\n",
       "     to be used is selected.  If some of the arguments are of an S4\n",
       "     class, i.e., 'isS4(.)' is true, S4 methods are sought also, and\n",
       "     the hidden 'cbind' / 'rbind' functions from package 'methods'\n",
       "     maybe called, which in turn build on 'cbind2' or 'rbind2',\n",
       "     respectively.  In that case, 'deparse.level' is obeyed, similarly\n",
       "     to the default method.\n",
       "\n",
       "     In the default method, all the vectors/matrices must be atomic\n",
       "     (see 'vector') or lists.  Expressions are not allowed.  Language\n",
       "     objects (such as formulae and calls) and pairlists will be coerced\n",
       "     to lists: other objects (such as names and external pointers) will\n",
       "     be included as elements in a list result.  Any classes the inputs\n",
       "     might have are discarded (in particular, factors are replaced by\n",
       "     their internal codes).\n",
       "\n",
       "     If there are several matrix arguments, they must all have the same\n",
       "     number of columns (or rows) and this will be the number of columns\n",
       "     (or rows) of the result.  If all the arguments are vectors, the\n",
       "     number of columns (rows) in the result is equal to the length of\n",
       "     the longest vector.  Values in shorter arguments are recycled to\n",
       "     achieve this length (with a 'warning' if they are recycled only\n",
       "     _fractionally_).\n",
       "\n",
       "     When the arguments consist of a mix of matrices and vectors the\n",
       "     number of columns (rows) of the result is determined by the number\n",
       "     of columns (rows) of the matrix arguments.  Any vectors have their\n",
       "     values recycled or subsetted to achieve this length.\n",
       "\n",
       "     For 'cbind' ('rbind'), vectors of zero length (including 'NULL')\n",
       "     are ignored unless the result would have zero rows (columns), for\n",
       "     S compatibility.  (Zero-extent matrices do not occur in S3 and are\n",
       "     not ignored in R.)\n",
       "\n",
       "     Matrices are restricted to less than 2^31 rows and columns even on\n",
       "     64-bit systems.  So input vectors have the same length\n",
       "     restriction: as from R 3.2.0 input matrices with more elements\n",
       "     (but meeting the row and column restrictions) are allowed.\n",
       "\n",
       "_\bV_\ba_\bl_\bu_\be:\n",
       "\n",
       "     For the default method, a matrix combining the '...' arguments\n",
       "     column-wise or row-wise.  (Exception: if there are no inputs or\n",
       "     all the inputs are 'NULL', the value is 'NULL'.)\n",
       "\n",
       "     The type of a matrix result determined from the highest type of\n",
       "     any of the inputs in the hierarchy raw < logical < integer <\n",
       "     double < complex < character < list .\n",
       "\n",
       "     For 'cbind' ('rbind') the column (row) names are taken from the\n",
       "     'colnames' ('rownames') of the arguments if these are matrix-like.\n",
       "     Otherwise from the names of the arguments or where those are not\n",
       "     supplied and 'deparse.level > 0', by deparsing the expressions\n",
       "     given, for 'deparse.level = 1' only if that gives a sensible name\n",
       "     (a 'symbol', see 'is.symbol').\n",
       "\n",
       "     For 'cbind' row names are taken from the first argument with\n",
       "     appropriate names: rownames for a matrix, or names for a vector of\n",
       "     length the number of rows of the result.\n",
       "\n",
       "     For 'rbind' column names are taken from the first argument with\n",
       "     appropriate names: colnames for a matrix, or names for a vector of\n",
       "     length the number of columns of the result.\n",
       "\n",
       "_\bD_\ba_\bt_\ba _\bf_\br_\ba_\bm_\be _\bm_\be_\bt_\bh_\bo_\bd_\bs:\n",
       "\n",
       "     The 'cbind' data frame method is just a wrapper for\n",
       "     'data.frame(..., check.names = FALSE)'.  This means that it will\n",
       "     split matrix columns in data frame arguments, and convert\n",
       "     character columns to factors unless 'stringsAsFactors = FALSE' is\n",
       "     specified.\n",
       "\n",
       "     The 'rbind' data frame method first drops all zero-column and\n",
       "     zero-row arguments.  (If that leaves none, it returns the first\n",
       "     argument with columns otherwise a zero-column zero-row data\n",
       "     frame.)  It then takes the classes of the columns from the first\n",
       "     data frame, and matches columns by name (rather than by position).\n",
       "     Factors have their levels expanded as necessary (in the order of\n",
       "     the levels of the levelsets of the factors encountered) and the\n",
       "     result is an ordered factor if and only if all the components were\n",
       "     ordered factors.  (The last point differs from S-PLUS.)  Old-style\n",
       "     categories (integer vectors with levels) are promoted to factors.\n",
       "\n",
       "     Note that for result column 'j', 'factor(., exclude = X(j))' is\n",
       "     applied, where\n",
       "     \n",
       "       X(j) := if(isTRUE(factor.exclude)) {\n",
       "                  if(!NA.lev[j]) NA # else NULL\n",
       "               } else factor.exclude\n",
       "\n",
       "     where 'NA.lev[j]' is true iff any contributing data frame has had\n",
       "     a 'factor' in column 'j' with an explicit 'NA' level.\n",
       "\n",
       "_\bD_\bi_\bs_\bp_\ba_\bt_\bc_\bh:\n",
       "\n",
       "     The method dispatching is _not_ done via 'UseMethod()', but by\n",
       "     C-internal dispatching.  Therefore there is no need for, e.g.,\n",
       "     'rbind.default'.\n",
       "\n",
       "     The dispatch algorithm is described in the source file\n",
       "     ('.../src/main/bind.c') as\n",
       "\n",
       "       1. For each argument we get the list of possible class\n",
       "          memberships from the class attribute.\n",
       "\n",
       "       2. We inspect each class in turn to see if there is an\n",
       "          applicable method.\n",
       "\n",
       "       3. If we find an applicable method we make sure that it is\n",
       "          identical to any method determined for prior arguments.  If\n",
       "          it is identical, we proceed, otherwise we immediately drop\n",
       "          through to the default code.\n",
       "\n",
       "     If you want to combine other objects with data frames, it may be\n",
       "     necessary to coerce them to data frames first.  (Note that this\n",
       "     algorithm can result in calling the data frame method if all the\n",
       "     arguments are either data frames or vectors, and this will result\n",
       "     in the coercion of character vectors to factors.)\n",
       "\n",
       "_\bR_\be_\bf_\be_\br_\be_\bn_\bc_\be_\bs:\n",
       "\n",
       "     Becker, R. A., Chambers, J. M. and Wilks, A. R. (1988) _The New S\n",
       "     Language_.  Wadsworth & Brooks/Cole.\n",
       "\n",
       "_\bS_\be_\be _\bA_\bl_\bs_\bo:\n",
       "\n",
       "     'c' to combine vectors (and lists) as vectors, 'data.frame' to\n",
       "     combine vectors and matrices as a data frame.\n",
       "\n",
       "_\bE_\bx_\ba_\bm_\bp_\bl_\be_\bs:\n",
       "\n",
       "     m <- cbind(1, 1:7) # the '1' (= shorter vector) is recycled\n",
       "     m\n",
       "     m <- cbind(m, 8:14)[, c(1, 3, 2)] # insert a column\n",
       "     m\n",
       "     cbind(1:7, diag(3)) # vector is subset -> warning\n",
       "     \n",
       "     cbind(0, rbind(1, 1:3))\n",
       "     cbind(I = 0, X = rbind(a = 1, b = 1:3))  # use some names\n",
       "     xx <- data.frame(I = rep(0,2))\n",
       "     cbind(xx, X = rbind(a = 1, b = 1:3))   # named differently\n",
       "     \n",
       "     cbind(0, matrix(1, nrow = 0, ncol = 4)) #> Warning (making sense)\n",
       "     dim(cbind(0, matrix(1, nrow = 2, ncol = 0))) #-> 2 x 1\n",
       "     \n",
       "     ## deparse.level\n",
       "     dd <- 10\n",
       "     rbind(1:4, c = 2, \"a++\" = 10, dd, deparse.level = 0) # middle 2 rownames\n",
       "     rbind(1:4, c = 2, \"a++\" = 10, dd, deparse.level = 1) # 3 rownames (default)\n",
       "     rbind(1:4, c = 2, \"a++\" = 10, dd, deparse.level = 2) # 4 rownames\n",
       "     \n",
       "     ## cheap row names:\n",
       "     b0 <- gl(3,4, labels=letters[1:3])\n",
       "     bf <- setNames(b0, paste0(\"o\", seq_along(b0)))\n",
       "     df  <- data.frame(a = 1, B = b0, f = gl(4,3))\n",
       "     df. <- data.frame(a = 1, B = bf, f = gl(4,3))\n",
       "     new <- data.frame(a = 8, B =\"B\", f = \"1\")\n",
       "     (df1  <- rbind(df , new))\n",
       "     (df.1 <- rbind(df., new))\n",
       "     stopifnot(identical(df1, rbind(df,  new, make.row.names=FALSE)),\n",
       "               identical(df1, rbind(df., new, make.row.names=FALSE)))\n",
       "     "
      ]
     },
     "metadata": {},
     "output_type": "display_data"
    }
   ],
   "source": [
    "?cbind"
   ]
  },
  {
   "cell_type": "code",
   "execution_count": 63,
   "id": "50f06dca-ac48-4846-a88f-288790815b25",
   "metadata": {
    "scrolled": true
   },
   "outputs": [],
   "source": [
    "a=c(\"Ayo\", \"a40\", \"Seun\", 100, \"mouse\")\n",
    "d=c(100, 30,57,20,10)\n",
    "w=c(\"Courgette\", \"spinach\", \"carrot\", \"apple\", \"mint\")"
   ]
  },
  {
   "cell_type": "code",
   "execution_count": 67,
   "id": "f1079aa0-774f-4e62-85dd-baeec91a8520",
   "metadata": {},
   "outputs": [],
   "source": [
    "g=cbind(a,d,w)"
   ]
  },
  {
   "cell_type": "code",
   "execution_count": 69,
   "id": "a9913fc8-78d3-40ca-be25-f43af1f449f2",
   "metadata": {},
   "outputs": [],
   "source": [
    "f=rbind(a,d,w)"
   ]
  },
  {
   "cell_type": "code",
   "execution_count": 68,
   "id": "3d42d9ac-f4d3-4275-a7ce-aa5904d05381",
   "metadata": {},
   "outputs": [
    {
     "name": "stdout",
     "output_type": "stream",
     "text": [
      "     a       d     w          \n",
      "[1,] \"Ayo\"   \"100\" \"Courgette\"\n",
      "[2,] \"a40\"   \"30\"  \"spinach\"  \n",
      "[3,] \"Seun\"  \"57\"  \"carrot\"   \n",
      "[4,] \"100\"   \"20\"  \"apple\"    \n",
      "[5,] \"mouse\" \"10\"  \"mint\"     \n"
     ]
    }
   ],
   "source": [
    "print(g)"
   ]
  },
  {
   "cell_type": "code",
   "execution_count": 71,
   "id": "e408e775-9cfe-4936-802a-8f7e38f0a20f",
   "metadata": {},
   "outputs": [
    {
     "name": "stdout",
     "output_type": "stream",
     "text": [
      "  [,1]        [,2]      [,3]     [,4]    [,5]   \n",
      "a \"Ayo\"       \"a40\"     \"Seun\"   \"100\"   \"mouse\"\n",
      "d \"100\"       \"30\"      \"57\"     \"20\"    \"10\"   \n",
      "w \"Courgette\" \"spinach\" \"carrot\" \"apple\" \"mint\" \n"
     ]
    }
   ],
   "source": [
    "print(f)"
   ]
  },
  {
   "cell_type": "code",
   "execution_count": 72,
   "id": "26b5ae21-3625-4897-8b46-90d6280fb2ef",
   "metadata": {},
   "outputs": [],
   "source": [
    "colnames(g)=c(\"name\", \"number\",\"vegetables\")"
   ]
  },
  {
   "cell_type": "code",
   "execution_count": 73,
   "id": "a58d9dbc-9d21-4818-8afc-970f894d6924",
   "metadata": {},
   "outputs": [
    {
     "name": "stdout",
     "output_type": "stream",
     "text": [
      "     name    number vegetables \n",
      "[1,] \"Ayo\"   \"100\"  \"Courgette\"\n",
      "[2,] \"a40\"   \"30\"   \"spinach\"  \n",
      "[3,] \"Seun\"  \"57\"   \"carrot\"   \n",
      "[4,] \"100\"   \"20\"   \"apple\"    \n",
      "[5,] \"mouse\" \"10\"   \"mint\"     \n"
     ]
    }
   ],
   "source": [
    "print(g)"
   ]
  },
  {
   "cell_type": "code",
   "execution_count": 78,
   "id": "11935976-9991-4d58-8f14-66eac2ce873e",
   "metadata": {},
   "outputs": [],
   "source": [
    "rownames(g)=c(\"A\", \"B\", \"C\", \"D\", \"E\")"
   ]
  },
  {
   "cell_type": "code",
   "execution_count": 79,
   "id": "7b77e34d-7ccf-4261-a964-b308e5c0a771",
   "metadata": {},
   "outputs": [
    {
     "data": {
      "text/html": [
       "<table>\n",
       "<thead><tr><th></th><th scope=col>name</th><th scope=col>number</th><th scope=col>vegetables</th></tr></thead>\n",
       "<tbody>\n",
       "\t<tr><th scope=row>A</th><td>Ayo      </td><td>100      </td><td>Courgette</td></tr>\n",
       "\t<tr><th scope=row>B</th><td>a40      </td><td>30       </td><td>spinach  </td></tr>\n",
       "\t<tr><th scope=row>C</th><td>Seun     </td><td>57       </td><td>carrot   </td></tr>\n",
       "\t<tr><th scope=row>D</th><td>100      </td><td>20       </td><td>apple    </td></tr>\n",
       "\t<tr><th scope=row>E</th><td>mouse    </td><td>10       </td><td>mint     </td></tr>\n",
       "</tbody>\n",
       "</table>\n"
      ],
      "text/latex": [
       "\\begin{tabular}{r|lll}\n",
       "  & name & number & vegetables\\\\\n",
       "\\hline\n",
       "\tA & Ayo       & 100       & Courgette\\\\\n",
       "\tB & a40       & 30        & spinach  \\\\\n",
       "\tC & Seun      & 57        & carrot   \\\\\n",
       "\tD & 100       & 20        & apple    \\\\\n",
       "\tE & mouse     & 10        & mint     \\\\\n",
       "\\end{tabular}\n"
      ],
      "text/markdown": [
       "\n",
       "| <!--/--> | name | number | vegetables |\n",
       "|---|---|---|---|\n",
       "| A | Ayo       | 100       | Courgette |\n",
       "| B | a40       | 30        | spinach   |\n",
       "| C | Seun      | 57        | carrot    |\n",
       "| D | 100       | 20        | apple     |\n",
       "| E | mouse     | 10        | mint      |\n",
       "\n"
      ],
      "text/plain": [
       "  name  number vegetables\n",
       "A Ayo   100    Courgette \n",
       "B a40   30     spinach   \n",
       "C Seun  57     carrot    \n",
       "D 100   20     apple     \n",
       "E mouse 10     mint      "
      ]
     },
     "metadata": {},
     "output_type": "display_data"
    }
   ],
   "source": [
    "g"
   ]
  },
  {
   "cell_type": "code",
   "execution_count": 80,
   "id": "63f1413e-9135-4a0a-ab85-709cbcfd1796",
   "metadata": {},
   "outputs": [],
   "source": [
    "a<-1"
   ]
  },
  {
   "cell_type": "code",
   "execution_count": 81,
   "id": "39528ad4-45cd-4b08-809e-60864683d68b",
   "metadata": {},
   "outputs": [
    {
     "data": {
      "text/html": [
       "1"
      ],
      "text/latex": [
       "1"
      ],
      "text/markdown": [
       "1"
      ],
      "text/plain": [
       "[1] 1"
      ]
     },
     "metadata": {},
     "output_type": "display_data"
    }
   ],
   "source": [
    "a"
   ]
  },
  {
   "cell_type": "code",
   "execution_count": 82,
   "id": "b5be60b8-8f53-424f-8880-5191d5c69dbf",
   "metadata": {},
   "outputs": [
    {
     "data": {
      "text/html": [
       "6"
      ],
      "text/latex": [
       "6"
      ],
      "text/markdown": [
       "6"
      ],
      "text/plain": [
       "[1] 6"
      ]
     },
     "metadata": {},
     "output_type": "display_data"
    }
   ],
   "source": [
    "a+5"
   ]
  },
  {
   "cell_type": "code",
   "execution_count": 83,
   "id": "57bbf488-c3ad-4c68-aaae-4383306d61a6",
   "metadata": {},
   "outputs": [
    {
     "data": {
      "text/html": [
       "FALSE"
      ],
      "text/latex": [
       "FALSE"
      ],
      "text/markdown": [
       "FALSE"
      ],
      "text/plain": [
       "[1] FALSE"
      ]
     },
     "metadata": {},
     "output_type": "display_data"
    }
   ],
   "source": [
    "a>100"
   ]
  },
  {
   "cell_type": "code",
   "execution_count": 84,
   "id": "e9c37f67-0ff7-4948-b217-9772ab2ae3c6",
   "metadata": {},
   "outputs": [],
   "source": [
    "a=5+1"
   ]
  },
  {
   "cell_type": "code",
   "execution_count": 85,
   "id": "0293cd72-9c84-4c18-8490-0db9bf894948",
   "metadata": {},
   "outputs": [
    {
     "data": {
      "text/html": [
       "FALSE"
      ],
      "text/latex": [
       "FALSE"
      ],
      "text/markdown": [
       "FALSE"
      ],
      "text/plain": [
       "[1] FALSE"
      ]
     },
     "metadata": {},
     "output_type": "display_data"
    }
   ],
   "source": [
    "isTRUE(a)"
   ]
  },
  {
   "cell_type": "code",
   "execution_count": 87,
   "id": "0a3a0b04-6785-4ca1-9266-d44588650e65",
   "metadata": {},
   "outputs": [
    {
     "name": "stdout",
     "output_type": "stream",
     "text": [
      "[1] 1\n",
      "[1] 2\n",
      "[1] 3\n",
      "[1] 4\n",
      "[1] 5\n"
     ]
    }
   ],
   "source": [
    "i<-1\n",
    "while(i<=5){\n",
    "    print(i)\n",
    "    i<-i+1\n",
    "    }"
   ]
  },
  {
   "cell_type": "code",
   "execution_count": 88,
   "id": "32755072-774c-45c2-9242-e57f674c44ba",
   "metadata": {},
   "outputs": [
    {
     "name": "stdout",
     "output_type": "stream",
     "text": [
      "[1] \"Hello Universe\"\n",
      "[1] \"Hello Universe\"\n",
      "[1] \"Hello Universe\"\n",
      "[1] \"Hello Universe\"\n",
      "[1] \"Hello Universe\"\n"
     ]
    }
   ],
   "source": [
    "for(a in 1:5){\n",
    "    print(\"Hello Universe\")\n",
    "    }"
   ]
  },
  {
   "cell_type": "code",
   "execution_count": 117,
   "id": "c0b4dbb6-7bd2-4829-af4a-15607aadee75",
   "metadata": {},
   "outputs": [],
   "source": [
    "r<-rnorm(1)\n",
    "if(r>10){\n",
    "    answer<-\"yes\"\n",
    "    }"
   ]
  },
  {
   "cell_type": "code",
   "execution_count": 103,
   "id": "be2c5046-a3ad-4136-a3d0-3278316d5651",
   "metadata": {},
   "outputs": [],
   "source": [
    "r<-5\n",
    "if(r<5){\n",
    "    reply<-\"no\"\n",
    "    }"
   ]
  },
  {
   "cell_type": "code",
   "execution_count": 118,
   "id": "bde0e9ff-00be-4ce6-a1ab-7ee7c178827a",
   "metadata": {},
   "outputs": [
    {
     "data": {
      "text/html": [
       "'yes'"
      ],
      "text/latex": [
       "'yes'"
      ],
      "text/markdown": [
       "'yes'"
      ],
      "text/plain": [
       "[1] \"yes\""
      ]
     },
     "metadata": {},
     "output_type": "display_data"
    }
   ],
   "source": [
    "answer"
   ]
  },
  {
   "cell_type": "code",
   "execution_count": 119,
   "id": "ea7a7096-d34e-4ee0-ba6d-fd03282fcfa8",
   "metadata": {},
   "outputs": [],
   "source": [
    "#create a dataframe\n",
    "Emp_name=c(\"jai\",\"David\",\"Mike\")\n",
    "Job_role=c(\"Manager\", \"QC\", \"Developer\")\n",
    "df=data.frame(Emp_name, Job_role)"
   ]
  },
  {
   "cell_type": "code",
   "execution_count": 120,
   "id": "862d6a9f-3d55-4ed0-844e-ef09631c87fb",
   "metadata": {},
   "outputs": [
    {
     "name": "stdout",
     "output_type": "stream",
     "text": [
      "  Emp_name  Job_role\n",
      "1      jai   Manager\n",
      "2    David        QC\n",
      "3     Mike Developer\n"
     ]
    }
   ],
   "source": [
    "print(df)"
   ]
  },
  {
   "cell_type": "code",
   "execution_count": 128,
   "id": "35d88807-c6f8-44e4-b46e-949c39d14627",
   "metadata": {},
   "outputs": [],
   "source": [
    "gender=c(\"female\",\"male\",\"bisexual\")"
   ]
  },
  {
   "cell_type": "code",
   "execution_count": 129,
   "id": "b90c8d46-0934-4973-8d17-40e0bc4393ed",
   "metadata": {},
   "outputs": [
    {
     "data": {
      "text/html": [
       "<table>\n",
       "<thead><tr><th scope=col>Emp_name</th><th scope=col>Job_role</th><th scope=col>gender</th></tr></thead>\n",
       "<tbody>\n",
       "\t<tr><td>jai      </td><td>Manager  </td><td>female   </td></tr>\n",
       "\t<tr><td>David    </td><td>QC       </td><td>male     </td></tr>\n",
       "\t<tr><td>Mike     </td><td>Developer</td><td>bisexual </td></tr>\n",
       "</tbody>\n",
       "</table>\n"
      ],
      "text/latex": [
       "\\begin{tabular}{lll}\n",
       " Emp\\_name & Job\\_role & gender\\\\\n",
       "\\hline\n",
       "\t jai       & Manager   & female   \\\\\n",
       "\t David     & QC        & male     \\\\\n",
       "\t Mike      & Developer & bisexual \\\\\n",
       "\\end{tabular}\n"
      ],
      "text/markdown": [
       "\n",
       "| Emp_name | Job_role | gender |\n",
       "|---|---|---|\n",
       "| jai       | Manager   | female    |\n",
       "| David     | QC        | male      |\n",
       "| Mike      | Developer | bisexual  |\n",
       "\n"
      ],
      "text/plain": [
       "     Emp_name Job_role  gender  \n",
       "[1,] jai      Manager   female  \n",
       "[2,] David    QC        male    \n",
       "[3,] Mike     Developer bisexual"
      ]
     },
     "metadata": {},
     "output_type": "display_data"
    }
   ],
   "source": [
    "cbind(Emp_name,Job_role,gender)"
   ]
  },
  {
   "cell_type": "code",
   "execution_count": null,
   "id": "d7a966be-5d4d-4e9d-a08e-a5fecadbcd9c",
   "metadata": {},
   "outputs": [],
   "source": []
  }
 ],
 "metadata": {
  "kernelspec": {
   "display_name": "R",
   "language": "R",
   "name": "ir"
  },
  "language_info": {
   "codemirror_mode": "r",
   "file_extension": ".r",
   "mimetype": "text/x-r-source",
   "name": "R",
   "pygments_lexer": "r",
   "version": "3.6.1"
  }
 },
 "nbformat": 4,
 "nbformat_minor": 5
}
